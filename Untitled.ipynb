{
 "cells": [
  {
   "cell_type": "code",
   "execution_count": 1,
   "id": "5f80b382-768a-4001-9a2b-e13130dc63c5",
   "metadata": {},
   "outputs": [],
   "source": [
    "import re  # regex will be used for feature extraction out of 'string' columns in the initial dataset \n",
    "import numpy as np\n",
    "import pandas as pd\n",
    "pd.set_option('display.max_columns', 100)\n",
    "pd.set_option(\"display.precision\", 2)\n",
    "import matplotlib.pyplot as plt\n",
    "%matplotlib inline\n",
    "import seaborn as sns \n",
    "import warnings \n",
    "warnings.simplefilter(action='ignore', category=FutureWarning)  # to ignore warnings about package deprecation and stuff like that\n",
    "import random\n",
    "\n",
    "# Pre-processing, model selection and tuning techniques \n",
    "from sklearn.preprocessing import LabelEncoder, StandardScaler, MinMaxScaler\n",
    "from sklearn.impute import SimpleImputer\n",
    "from sklearn.model_selection import train_test_split, GridSearchCV, RandomizedSearchCV\n",
    "from sklearn import metrics\n",
    "\n",
    "# Algorithms - Unsupervised Learning\n",
    "from sklearn.decomposition import PCA \n",
    "from sklearn.cluster import KMeans, AgglomerativeClustering, DBSCAN\n",
    "from yellowbrick.cluster import KElbowVisualizer\n",
    "\n",
    "\n",
    "# Algorithms - Supervised Learning - classifiers\n",
    "from sklearn.neighbors import KNeighborsClassifier\n",
    "from sklearn.tree import DecisionTreeClassifier \n",
    "from sklearn.ensemble import RandomForestClassifier\n",
    "from sklearn.svm import SVC, LinearSVC "
   ]
  },
  {
   "cell_type": "code",
   "execution_count": 3,
   "id": "6b1cf111-8497-4571-b8de-f81962d969bc",
   "metadata": {},
   "outputs": [],
   "source": [
    "import os\n",
    "os.chdir('/Users/chkapsalis/Downloads')\n",
    "titanicData = pd.read_csv('train.csv', index_col=0, header=0, sep=',')\n",
    "unknowncData = pd.read_csv('test.csv', index_col=0, header=0, sep=',')"
   ]
  },
  {
   "cell_type": "code",
   "execution_count": 4,
   "id": "fca6d601-7434-4bdd-a125-95b258c95c68",
   "metadata": {},
   "outputs": [
    {
     "data": {
      "text/html": [
       "<div>\n",
       "<style scoped>\n",
       "    .dataframe tbody tr th:only-of-type {\n",
       "        vertical-align: middle;\n",
       "    }\n",
       "\n",
       "    .dataframe tbody tr th {\n",
       "        vertical-align: top;\n",
       "    }\n",
       "\n",
       "    .dataframe thead th {\n",
       "        text-align: right;\n",
       "    }\n",
       "</style>\n",
       "<table border=\"1\" class=\"dataframe\">\n",
       "  <thead>\n",
       "    <tr style=\"text-align: right;\">\n",
       "      <th></th>\n",
       "      <th>Survived</th>\n",
       "      <th>Pclass</th>\n",
       "      <th>Name</th>\n",
       "      <th>Sex</th>\n",
       "      <th>Age</th>\n",
       "      <th>SibSp</th>\n",
       "      <th>Parch</th>\n",
       "      <th>Ticket</th>\n",
       "      <th>Fare</th>\n",
       "      <th>Cabin</th>\n",
       "      <th>Embarked</th>\n",
       "    </tr>\n",
       "    <tr>\n",
       "      <th>PassengerId</th>\n",
       "      <th></th>\n",
       "      <th></th>\n",
       "      <th></th>\n",
       "      <th></th>\n",
       "      <th></th>\n",
       "      <th></th>\n",
       "      <th></th>\n",
       "      <th></th>\n",
       "      <th></th>\n",
       "      <th></th>\n",
       "      <th></th>\n",
       "    </tr>\n",
       "  </thead>\n",
       "  <tbody>\n",
       "    <tr>\n",
       "      <th>1</th>\n",
       "      <td>0</td>\n",
       "      <td>3</td>\n",
       "      <td>Braund, Mr. Owen Harris</td>\n",
       "      <td>male</td>\n",
       "      <td>22.0</td>\n",
       "      <td>1</td>\n",
       "      <td>0</td>\n",
       "      <td>A/5 21171</td>\n",
       "      <td>7.25</td>\n",
       "      <td>NaN</td>\n",
       "      <td>S</td>\n",
       "    </tr>\n",
       "    <tr>\n",
       "      <th>2</th>\n",
       "      <td>1</td>\n",
       "      <td>1</td>\n",
       "      <td>Cumings, Mrs. John Bradley (Florence Briggs Th...</td>\n",
       "      <td>female</td>\n",
       "      <td>38.0</td>\n",
       "      <td>1</td>\n",
       "      <td>0</td>\n",
       "      <td>PC 17599</td>\n",
       "      <td>71.28</td>\n",
       "      <td>C85</td>\n",
       "      <td>C</td>\n",
       "    </tr>\n",
       "    <tr>\n",
       "      <th>3</th>\n",
       "      <td>1</td>\n",
       "      <td>3</td>\n",
       "      <td>Heikkinen, Miss. Laina</td>\n",
       "      <td>female</td>\n",
       "      <td>26.0</td>\n",
       "      <td>0</td>\n",
       "      <td>0</td>\n",
       "      <td>STON/O2. 3101282</td>\n",
       "      <td>7.92</td>\n",
       "      <td>NaN</td>\n",
       "      <td>S</td>\n",
       "    </tr>\n",
       "    <tr>\n",
       "      <th>4</th>\n",
       "      <td>1</td>\n",
       "      <td>1</td>\n",
       "      <td>Futrelle, Mrs. Jacques Heath (Lily May Peel)</td>\n",
       "      <td>female</td>\n",
       "      <td>35.0</td>\n",
       "      <td>1</td>\n",
       "      <td>0</td>\n",
       "      <td>113803</td>\n",
       "      <td>53.10</td>\n",
       "      <td>C123</td>\n",
       "      <td>S</td>\n",
       "    </tr>\n",
       "    <tr>\n",
       "      <th>5</th>\n",
       "      <td>0</td>\n",
       "      <td>3</td>\n",
       "      <td>Allen, Mr. William Henry</td>\n",
       "      <td>male</td>\n",
       "      <td>35.0</td>\n",
       "      <td>0</td>\n",
       "      <td>0</td>\n",
       "      <td>373450</td>\n",
       "      <td>8.05</td>\n",
       "      <td>NaN</td>\n",
       "      <td>S</td>\n",
       "    </tr>\n",
       "  </tbody>\n",
       "</table>\n",
       "</div>"
      ],
      "text/plain": [
       "             Survived  Pclass  \\\n",
       "PassengerId                     \n",
       "1                   0       3   \n",
       "2                   1       1   \n",
       "3                   1       3   \n",
       "4                   1       1   \n",
       "5                   0       3   \n",
       "\n",
       "                                                          Name     Sex   Age  \\\n",
       "PassengerId                                                                    \n",
       "1                                      Braund, Mr. Owen Harris    male  22.0   \n",
       "2            Cumings, Mrs. John Bradley (Florence Briggs Th...  female  38.0   \n",
       "3                                       Heikkinen, Miss. Laina  female  26.0   \n",
       "4                 Futrelle, Mrs. Jacques Heath (Lily May Peel)  female  35.0   \n",
       "5                                     Allen, Mr. William Henry    male  35.0   \n",
       "\n",
       "             SibSp  Parch            Ticket   Fare Cabin Embarked  \n",
       "PassengerId                                                        \n",
       "1                1      0         A/5 21171   7.25   NaN        S  \n",
       "2                1      0          PC 17599  71.28   C85        C  \n",
       "3                0      0  STON/O2. 3101282   7.92   NaN        S  \n",
       "4                1      0            113803  53.10  C123        S  \n",
       "5                0      0            373450   8.05   NaN        S  "
      ]
     },
     "execution_count": 4,
     "metadata": {},
     "output_type": "execute_result"
    }
   ],
   "source": [
    "titanicData.head()"
   ]
  },
  {
   "cell_type": "markdown",
   "id": "317ea1d1-8d34-471f-8be8-afee7aaa21b3",
   "metadata": {},
   "source": [
    "# Inspecting the Available Data"
   ]
  },
  {
   "cell_type": "markdown",
   "id": "83b2a78c-d9b9-4329-ab5e-b4799b807f0b",
   "metadata": {},
   "source": [
    "### - Dimensionality/Shape "
   ]
  },
  {
   "cell_type": "code",
   "execution_count": 9,
   "id": "1d17e698-a044-434d-aafd-6dbcbbcab534",
   "metadata": {},
   "outputs": [
    {
     "name": "stdout",
     "output_type": "stream",
     "text": [
      "Shape of titanicData: (891, 11)\n",
      "Shape of unknownData: (418, 10)\n"
     ]
    }
   ],
   "source": [
    "print('Shape of titanicData:', titanicData.shape)\n",
    "print('Shape of unknownData:', unknowncData.shape)"
   ]
  },
  {
   "cell_type": "markdown",
   "id": "98c649b5-3af6-486f-913a-ebea2c43eac1",
   "metadata": {},
   "source": [
    "### - Checking for Duplicate Values"
   ]
  },
  {
   "cell_type": "code",
   "execution_count": 15,
   "id": "d232877d-e90b-4eee-b9bc-c0101094c435",
   "metadata": {},
   "outputs": [
    {
     "name": "stdout",
     "output_type": "stream",
     "text": [
      "Initial Shape of titanicData: (891, 11)\n",
      "Shape w/o duplicates: (891, 11)\n"
     ]
    }
   ],
   "source": [
    "# unique identifier of passengers - their id; each passengerId can exist only once\n",
    "print('Initial Shape of titanicData:', titanicData.shape)\n",
    "print('Shape w/o duplicates:', titanicData[~titanicData.index.duplicated(keep='first')].shape)\n",
    "# so we only keep the first occurrences of the duplicated rows - this is the best performant statement to do it"
   ]
  },
  {
   "cell_type": "markdown",
   "id": "2c7ed00a-2287-4ef4-860d-6ef54d8a2e65",
   "metadata": {},
   "source": [
    "### - Data Types and missing values of each column"
   ]
  },
  {
   "cell_type": "code",
   "execution_count": 16,
   "id": "caa26283-8d6b-4b60-8660-9e853ccb8461",
   "metadata": {},
   "outputs": [
    {
     "name": "stdout",
     "output_type": "stream",
     "text": [
      "<class 'pandas.core.frame.DataFrame'>\n",
      "Int64Index: 891 entries, 1 to 891\n",
      "Data columns (total 11 columns):\n",
      " #   Column    Non-Null Count  Dtype  \n",
      "---  ------    --------------  -----  \n",
      " 0   Survived  891 non-null    int64  \n",
      " 1   Pclass    891 non-null    int64  \n",
      " 2   Name      891 non-null    object \n",
      " 3   Sex       891 non-null    object \n",
      " 4   Age       714 non-null    float64\n",
      " 5   SibSp     891 non-null    int64  \n",
      " 6   Parch     891 non-null    int64  \n",
      " 7   Ticket    891 non-null    object \n",
      " 8   Fare      891 non-null    float64\n",
      " 9   Cabin     204 non-null    object \n",
      " 10  Embarked  889 non-null    object \n",
      "dtypes: float64(2), int64(4), object(5)\n",
      "memory usage: 115.8+ KB\n"
     ]
    }
   ],
   "source": [
    "titanicData.info()"
   ]
  },
  {
   "cell_type": "markdown",
   "id": "fd435f50-2275-4d1a-a5b0-f815afa09e38",
   "metadata": {},
   "source": [
    "Vars of categorical nature (encoded v.s. not -> will perform one hot encoding later on):\n",
    "- Pclass\n",
    "- Name\n",
    "- Sex\n",
    "- Ticket\n",
    "- Fare\n",
    "- Cabin\n",
    "- Embarked\n",
    "\n",
    "Vars of numerical nature:\n",
    "\n",
    "\n",
    "Target Variable: \n",
    "- \n",
    "it is already encoded, so no label encoding needs to take place later on \n"
   ]
  },
  {
   "cell_type": "code",
   "execution_count": 17,
   "id": "11b9a30f-9448-41d9-8d0e-09a57dd058e9",
   "metadata": {},
   "outputs": [
    {
     "name": "stdout",
     "output_type": "stream",
     "text": [
      "Survived      0\n",
      "Pclass        0\n",
      "Name          0\n",
      "Sex           0\n",
      "Age         177\n",
      "SibSp         0\n",
      "Parch         0\n",
      "Ticket        0\n",
      "Fare          0\n",
      "Cabin       687\n",
      "Embarked      2\n",
      "dtype: int64\n"
     ]
    }
   ],
   "source": [
    "# missing values per row\n",
    "print(titanicData.isna().sum())"
   ]
  },
  {
   "cell_type": "code",
   "execution_count": 20,
   "id": "dc9d0dc1-3bf2-401e-8f3f-8be0afcb8c0b",
   "metadata": {},
   "outputs": [
    {
     "name": "stdout",
     "output_type": "stream",
     "text": [
      "0.00% of values of \"Survived\" are missing\n",
      "0.00% of values of \"Pclass\" are missing\n",
      "0.00% of values of \"Name\" are missing\n",
      "0.00% of values of \"Sex\" are missing\n",
      "19.87% of values of \"Age\" are missing\n",
      "0.00% of values of \"SibSp\" are missing\n",
      "0.00% of values of \"Parch\" are missing\n",
      "0.00% of values of \"Ticket\" are missing\n",
      "0.00% of values of \"Fare\" are missing\n",
      "77.10% of values of \"Cabin\" are missing\n",
      "0.22% of values of \"Embarked\" are missing\n"
     ]
    }
   ],
   "source": [
    "for col in titanicData.columns:\n",
    "    print(f'{titanicData[col].isna().sum()/len(titanicData[col]):.2%} of values of \"{col}\" are missing')"
   ]
  },
  {
   "cell_type": "code",
   "execution_count": 22,
   "id": "bcd77740-a265-468c-8b75-bd92076ad917",
   "metadata": {},
   "outputs": [
    {
     "data": {
      "image/png": "[encoded data removed]",
      "text/plain": [
       "<Figure size 800x600 with 1 Axes>"
      ]
     },
     "metadata": {},
     "output_type": "display_data"
    }
   ],
   "source": [
    "# null values heatmap\n",
    "fig, ax = plt.subplots(figsize=(8,6))\n",
    "ax = sns.heatmap(titanicData.isna().transpose(), cmap=\"YlGnBu\", cbar=False)\n",
    "plt.show()"
   ]
  },
  {
   "cell_type": "code",
   "execution_count": null,
   "id": "ba298ddd-341b-427c-a566-2d33be669a46",
   "metadata": {},
   "outputs": [],
   "source": []
  }
 ],
 "metadata": {
  "kernelspec": {
   "display_name": "Python 3 (ipykernel)",
   "language": "python",
   "name": "python3"
  },
  "language_info": {
   "codemirror_mode": {
    "name": "ipython",
    "version": 3
   },
   "file_extension": ".py",
   "mimetype": "text/x-python",
   "name": "python",
   "nbconvert_exporter": "python",
   "pygments_lexer": "ipython3",
   "version": "3.11.7"
  }
 },
 "nbformat": 4,
 "nbformat_minor": 5
}
