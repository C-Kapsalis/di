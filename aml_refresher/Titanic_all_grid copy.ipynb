{
 "cells": [
  {
   "cell_type": "markdown",
   "metadata": {},
   "source": [
    "## Basic Definitions: \n",
    "- Data Mining: the non-trivial extraction of implicit, previously unknown & potentially useful information from data. Done ia exploration & analysis of large quantities of data to discover meaningful patterns. Synonymous to ML.\n",
    "- In this introductory course, we'll focus on supervised & unsupervised ML techniques:\n",
    "- **Supervised Learning**: encompasses algorithms of predictive nature, receiving input data that contain some associated knowledge (aka observed/known values of the variable we're trying to predict) amd produce output values (class predictions, \"classifications\") that are either discrete (classification algorithms) or continuous (regression algorithms). We try to model (as in estimating the optimal form of a mathematical function) the relationships & dependencies in our labelled data (\"training examples\") between the values of the dependent variable (y) and the features set (X), so that we can predict the class labels for new data based on those relationships as accurately as possible, aka to achieve optimal \"generalization\". **[Geometric Interpretation]** These mathematical functions we try to  effectively try to build a boundary (in the form of a curve) between points belonging to various classes that distinguishes them in such a way that results in the optimal generalization performance.\n",
    "- **Unsupervised Learning**: encompasses algorithms of descriptive nature,m with the goal to unravel hidden trends/patterns evident of (dis)similarities in our data - computers are trained on unlabelled data, so these algos are based on clustering & trend detection techniques so as to better describe the data without human supervision. The goal is to mine for rules, detect patterns, and summarize/group the data points to hlp derive meaningful insights for human interpreters of the results. \n",
    "\n",
    "## ML Lifecycle: \n",
    "1. Define (based on business needs)\n",
    "2. Prototype (data acquisition & preparation is where we spend most of our time)\n",
    "3. Production\n",
    "4. Measure     "
   ]
  },
  {
   "cell_type": "markdown",
   "metadata": {},
   "source": [
    "\n",
    "## Titanic - Machine Learning from Disaster - Predicting the Survival of Titanic Passengers\n",
    "\n",
    "\n",
    "### Load the libraries"
   ]
  },
  {
   "cell_type": "code",
   "execution_count": 1,
   "metadata": {},
   "outputs": [],
   "source": [
    "import re  # regex will be used for feature extraction out of 'string' columns in the initial dataset \n",
    "import numpy as np\n",
    "import pandas as pd\n",
    "pd.set_option('display.max_columns', 100)\n",
    "pd.set_option(\"display.precision\", 2)\n",
    "import matplotlib.pyplot as plt\n",
    "%matplotlib inline\n",
    "import seaborn as sns \n",
    "import warnings \n",
    "warnings.simplefilter(action='ignore', category=FutureWarning)  # to ignore warnings about package deprecation and stuff like that\n",
    "import random\n",
    "\n",
    "# Pre-processing, model selection and tuning techniques \n",
    "from sklearn.preprocessing import LabelEncoder, StandardScaler, MinMaxScaler\n",
    "from sklearn.impute import SimpleImputer\n",
    "from sklearn.model_selection import train_test_split, GridSearchCV, RandomizedSearchCV\n",
    "from sklearn import metrics\n",
    "\n",
    "# Algorithms - Unsupervised Learning\n",
    "from sklearn.decomposition import PCA \n",
    "from sklearn.cluster import KMeans, AgglomerativeClustering, DBSCAN\n",
    "from yellowbrick.cluster import KElbowVisualizer\n",
    "\n",
    "\n",
    "# Algorithms - Supervised Learning - classifiers\n",
    "from sklearn.neighbors import KNeighborsClassifier\n",
    "from sklearn.tree import DecisionTreeClassifier \n",
    "from sklearn.ensemble import RandomForestClassifier\n",
    "from sklearn.svm import SVC, LinearSVC "
   ]
  },
  {
   "cell_type": "code",
   "execution_count": 2,
   "metadata": {},
   "outputs": [],
   "source": [
    "import os \n",
    "os.chdir('/Users/chkapsalis/Desktop/my_learning/ACG-Deree/Winter_2023:24/ITC6013-Applied_Machine_Learning/Lectures:Slides/w8-revision')"
   ]
  },
  {
   "cell_type": "markdown",
   "metadata": {},
   "source": [
    "### Load the data\n",
    "\n",
    "Kaggle’s Titanic Machine Learning Dataset – a classic open-source introduction to the realm of machine learning. The link for the competition and data is https://www.kaggle.com/competitions/titanic. The dataset has information about different passengers on the Titanic ship and their survival. We have the following features in our dataset: \n",
    "\n",
    "- survival -> Survival -> 0 = No, 1 = Yes\n",
    "- pclass -> Ticket class -> 1 = 1st, 2 = 2nd, 3 = 3rd\n",
    "- sex -> Sex (male/female)\n",
    "- Age -> Age in years\n",
    "- sibsp -> # of siblings / spouses aboard the Titanic\n",
    "- parch -> # of parents / children aboard the Titanic\n",
    "- ticket -> Ticket number\n",
    "- fare -> Passenger fare\n",
    "- cabin -> Cabin number\n",
    "- embarked -> Port of Embarkment\n",
    "\n",
    "#### Data Notes \n",
    "\n",
    "- As part of the Kaggle competition, based on the patterns you find in titanic_known.csv, you will have to predict whether the other 418 passengers on board in titanic_unknown.csv survived. <u>=> process: pre-process the given data, find what predictive ML model works best on them, and then train it on the ENTIRE titanic_known.csv data (as X_train and y_train), considering the contents of titanic_unknown.csv as X_unknown which you want to get actual predictions you cannot find anywhere else.</u>\n",
    "\n",
    "**Note that titanic_unknown.csv does not have a \"Survived\" column - this information is hidden from you, and how well you do at predicting these hidden values will determine how highly you score in the competition!**"
   ]
  },
  {
   "cell_type": "code",
   "execution_count": 3,
   "metadata": {},
   "outputs": [
    {
     "data": {
      "text/html": [
       "<div>\n",
       "<style scoped>\n",
       "    .dataframe tbody tr th:only-of-type {\n",
       "        vertical-align: middle;\n",
       "    }\n",
       "\n",
       "    .dataframe tbody tr th {\n",
       "        vertical-align: top;\n",
       "    }\n",
       "\n",
       "    .dataframe thead th {\n",
       "        text-align: right;\n",
       "    }\n",
       "</style>\n",
       "<table border=\"1\" class=\"dataframe\">\n",
       "  <thead>\n",
       "    <tr style=\"text-align: right;\">\n",
       "      <th></th>\n",
       "      <th>Survived</th>\n",
       "      <th>Pclass</th>\n",
       "      <th>Name</th>\n",
       "      <th>Sex</th>\n",
       "      <th>Age</th>\n",
       "      <th>SibSp</th>\n",
       "      <th>Parch</th>\n",
       "      <th>Ticket</th>\n",
       "      <th>Fare</th>\n",
       "      <th>Cabin</th>\n",
       "      <th>Embarked</th>\n",
       "    </tr>\n",
       "    <tr>\n",
       "      <th>PassengerId</th>\n",
       "      <th></th>\n",
       "      <th></th>\n",
       "      <th></th>\n",
       "      <th></th>\n",
       "      <th></th>\n",
       "      <th></th>\n",
       "      <th></th>\n",
       "      <th></th>\n",
       "      <th></th>\n",
       "      <th></th>\n",
       "      <th></th>\n",
       "    </tr>\n",
       "  </thead>\n",
       "  <tbody>\n",
       "    <tr>\n",
       "      <th>1</th>\n",
       "      <td>0</td>\n",
       "      <td>3</td>\n",
       "      <td>Braund, Mr. Owen Harris</td>\n",
       "      <td>male</td>\n",
       "      <td>22.0</td>\n",
       "      <td>1</td>\n",
       "      <td>0</td>\n",
       "      <td>A/5 21171</td>\n",
       "      <td>7.25</td>\n",
       "      <td>NaN</td>\n",
       "      <td>S</td>\n",
       "    </tr>\n",
       "    <tr>\n",
       "      <th>2</th>\n",
       "      <td>1</td>\n",
       "      <td>1</td>\n",
       "      <td>Cumings, Mrs. John Bradley (Florence Briggs Th...</td>\n",
       "      <td>female</td>\n",
       "      <td>38.0</td>\n",
       "      <td>1</td>\n",
       "      <td>0</td>\n",
       "      <td>PC 17599</td>\n",
       "      <td>71.28</td>\n",
       "      <td>C85</td>\n",
       "      <td>C</td>\n",
       "    </tr>\n",
       "    <tr>\n",
       "      <th>3</th>\n",
       "      <td>1</td>\n",
       "      <td>3</td>\n",
       "      <td>Heikkinen, Miss. Laina</td>\n",
       "      <td>female</td>\n",
       "      <td>26.0</td>\n",
       "      <td>0</td>\n",
       "      <td>0</td>\n",
       "      <td>STON/O2. 3101282</td>\n",
       "      <td>7.92</td>\n",
       "      <td>NaN</td>\n",
       "      <td>S</td>\n",
       "    </tr>\n",
       "    <tr>\n",
       "      <th>4</th>\n",
       "      <td>1</td>\n",
       "      <td>1</td>\n",
       "      <td>Futrelle, Mrs. Jacques Heath (Lily May Peel)</td>\n",
       "      <td>female</td>\n",
       "      <td>35.0</td>\n",
       "      <td>1</td>\n",
       "      <td>0</td>\n",
       "      <td>113803</td>\n",
       "      <td>53.10</td>\n",
       "      <td>C123</td>\n",
       "      <td>S</td>\n",
       "    </tr>\n",
       "    <tr>\n",
       "      <th>5</th>\n",
       "      <td>0</td>\n",
       "      <td>3</td>\n",
       "      <td>Allen, Mr. William Henry</td>\n",
       "      <td>male</td>\n",
       "      <td>35.0</td>\n",
       "      <td>0</td>\n",
       "      <td>0</td>\n",
       "      <td>373450</td>\n",
       "      <td>8.05</td>\n",
       "      <td>NaN</td>\n",
       "      <td>S</td>\n",
       "    </tr>\n",
       "  </tbody>\n",
       "</table>\n",
       "</div>"
      ],
      "text/plain": [
       "             Survived  Pclass  \\\n",
       "PassengerId                     \n",
       "1                   0       3   \n",
       "2                   1       1   \n",
       "3                   1       3   \n",
       "4                   1       1   \n",
       "5                   0       3   \n",
       "\n",
       "                                                          Name     Sex   Age  \\\n",
       "PassengerId                                                                    \n",
       "1                                      Braund, Mr. Owen Harris    male  22.0   \n",
       "2            Cumings, Mrs. John Bradley (Florence Briggs Th...  female  38.0   \n",
       "3                                       Heikkinen, Miss. Laina  female  26.0   \n",
       "4                 Futrelle, Mrs. Jacques Heath (Lily May Peel)  female  35.0   \n",
       "5                                     Allen, Mr. William Henry    male  35.0   \n",
       "\n",
       "             SibSp  Parch            Ticket   Fare Cabin Embarked  \n",
       "PassengerId                                                        \n",
       "1                1      0         A/5 21171   7.25   NaN        S  \n",
       "2                1      0          PC 17599  71.28   C85        C  \n",
       "3                0      0  STON/O2. 3101282   7.92   NaN        S  \n",
       "4                1      0            113803  53.10  C123        S  \n",
       "5                0      0            373450   8.05   NaN        S  "
      ]
     },
     "execution_count": 3,
     "metadata": {},
     "output_type": "execute_result"
    }
   ],
   "source": [
    "# The data in this use case are provided to you as titanic_known.csv and titanic_unknown.csv files. \n",
    "# Load both of the files into two new DataFrames titanicData and unknownData respectively\n",
    "titanicData = pd.read_csv('titanic_known.csv', index_col=0, header=0, sep=',')\n",
    "unknownData = pd.read_csv('titanic_unknown.csv', index_col=0, header=0, sep=',')\n",
    "titanicData.head()"
   ]
  },
  {
   "cell_type": "markdown",
   "metadata": {},
   "source": [
    "## Define the type of problem concerned (supervised/unsupervised learning, what type) and, in case of classification, what is the dependent/target/class variable."
   ]
  },
  {
   "cell_type": "markdown",
   "metadata": {},
   "source": [
    "<strong>Goal:</strong> given a dataset of values for various attributes/features of passengers of the Titanic, predict whether they survived or not (aka assign a label out of a specified set -those existing in the training set- for a set of new/unseen values/data points/samples). \n",
    "=> supervised learning; binary classification problem. \n",
    "<strong>Class variable</strong> (bearing -in labeled points- the information we want to predict for the unlabeled points): 'Survived'"
   ]
  },
  {
   "cell_type": "markdown",
   "metadata": {},
   "source": [
    "# Data Pre-Processing \n",
    "We perform data-preprocessing with the goal of improving the quality of our data & making it more suitable for the specific data mining task. Otherwise, giving as input quality of bad quality to any ML algos would just result in getting bad predictions returned; \"garbage in, garbage out\"."
   ]
  },
  {
   "cell_type": "markdown",
   "metadata": {},
   "source": [
    "### Inspecting our data \n",
    "Aspects considered: \n",
    "- Dimensionality/Shape\n",
    "- Data types of columns and underlying nature of their information (numerical, categorical (encoded vs. not encoded), string, bool) + look for variables stored in wrong data types\n",
    "- Duplicate values\n",
    "- Missing values (~of types that NumPy conventionally recognizes as NaN values so that they can be showing in '.info()' calls) - which columns contain them and what my imputation strategy/approach will be per variable"
   ]
  },
  {
   "cell_type": "code",
   "execution_count": 4,
   "metadata": {},
   "outputs": [
    {
     "name": "stdout",
     "output_type": "stream",
     "text": [
      "Shape of titanicData: (891, 11)\n",
      "Shape of unknownData: (418, 10)\n"
     ]
    }
   ],
   "source": [
    "## Dimensionality/Shape\n",
    "\n",
    "print('Shape of titanicData:', titanicData.shape)\n",
    "print('Shape of unknownData:', unknownData.shape)\n"
   ]
  },
  {
   "cell_type": "markdown",
   "metadata": {},
   "source": [
    "We see there is one less column - that is because there is no 'Survived' column in titanic-unknown.csv\n",
    "We do not know what the fate of those passengers was. This is what we're trying to predict."
   ]
  },
  {
   "cell_type": "markdown",
   "metadata": {},
   "source": [
    "### Checking for Duplicate values \n",
    "A row is duplicated when we have multiple mentions (>1) to the passenger it refers to - this is easily identifiable by multiple mentions to the specific index value corresponding to that row. "
   ]
  },
  {
   "cell_type": "code",
   "execution_count": 5,
   "metadata": {},
   "outputs": [
    {
     "name": "stdout",
     "output_type": "stream",
     "text": [
      "Initial Shape of titanicData: (891, 11)\n",
      "No of duplicate mentions to passengers in titanicData: 0\n",
      "No of duplicate mentions to passengers in unknownData: 0\n"
     ]
    }
   ],
   "source": [
    "print('Initial Shape of titanicData:', titanicData.shape)\n",
    "# Here, the 'key' column (~ each passenger: uniquely identified by a single column, which is actually each row's index) is the index.\n",
    "# If this wasn't the case, I wouldn't bother the '.reset_index(allow_duplicates=True)' part. \n",
    "print('No of duplicate mentions to passengers in titanicData:', titanicData.reset_index(allow_duplicates=True).duplicated(subset=['PassengerId']).sum())\n",
    "print('No of duplicate mentions to passengers in unknownData:', unknownData.reset_index(allow_duplicates=True).duplicated(subset=['PassengerId']).sum())"
   ]
  },
  {
   "cell_type": "markdown",
   "metadata": {},
   "source": [
    "Should there be any duplicates we would have to drop them IN THIS CASE, because they could not represent reality, rather just redundant and replicated data (one person can be onboard only one time, there aren't clones of them). This is highly data-dependent though in general; there are cases in which it so happens that there are observations with the exact same characteristics in reality - in such cases we retain duplicate values, as the model being trained should take into account the relative frequencies in which such samples (with their unique characteristics - feature values) are observed in reality."
   ]
  },
  {
   "cell_type": "markdown",
   "metadata": {},
   "source": [
    "### Data types and missing values of each column "
   ]
  },
  {
   "cell_type": "code",
   "execution_count": 6,
   "metadata": {},
   "outputs": [
    {
     "name": "stdout",
     "output_type": "stream",
     "text": [
      "<class 'pandas.core.frame.DataFrame'>\n",
      "Index: 891 entries, 1 to 891\n",
      "Data columns (total 11 columns):\n",
      " #   Column    Non-Null Count  Dtype  \n",
      "---  ------    --------------  -----  \n",
      " 0   Survived  891 non-null    int64  \n",
      " 1   Pclass    891 non-null    int64  \n",
      " 2   Name      891 non-null    object \n",
      " 3   Sex       891 non-null    object \n",
      " 4   Age       714 non-null    float64\n",
      " 5   SibSp     891 non-null    int64  \n",
      " 6   Parch     891 non-null    int64  \n",
      " 7   Ticket    891 non-null    object \n",
      " 8   Fare      891 non-null    float64\n",
      " 9   Cabin     204 non-null    object \n",
      " 10  Embarked  889 non-null    object \n",
      "dtypes: float64(2), int64(4), object(5)\n",
      "memory usage: 83.5+ KB\n"
     ]
    }
   ],
   "source": [
    "# relevant info of titanicData \n",
    "titanicData.info()"
   ]
  },
  {
   "cell_type": "markdown",
   "metadata": {},
   "source": [
    "#### Observations \n",
    "\n",
    "<strong>Variables of categorical nature:</strong>\n",
    "- Pclass (encoded)\n",
    "- Name (not encoded)\n",
    "- Sex (not)\n",
    "- Ticket (not) \n",
    "- Cabin (not)\n",
    "- Embarked (not)\n",
    "\n",
    "<strong>Variables of quantitative/numerical nature:</strong>\n",
    "- Age \n",
    "- SibSp\n",
    "- Parch\n",
    "- Fare "
   ]
  },
  {
   "cell_type": "code",
   "execution_count": 7,
   "metadata": {},
   "outputs": [
    {
     "name": "stdout",
     "output_type": "stream",
     "text": [
      "Survived      0\n",
      "Pclass        0\n",
      "Name          0\n",
      "Sex           0\n",
      "Age         177\n",
      "SibSp         0\n",
      "Parch         0\n",
      "Ticket        0\n",
      "Fare          0\n",
      "Cabin       687\n",
      "Embarked      2\n",
      "dtype: int64\n"
     ]
    }
   ],
   "source": [
    "# Missing values per column in titanicData  \n",
    "print(titanicData.isna().sum())"
   ]
  },
  {
   "cell_type": "code",
   "execution_count": 8,
   "metadata": {},
   "outputs": [
    {
     "name": "stdout",
     "output_type": "stream",
     "text": [
      "There are 177 NaN values in column \"Age\", or 19.87% of its values.\n",
      "There are 687 NaN values in column \"Cabin\", or 77.10% of its values.\n",
      "There are 2 NaN values in column \"Embarked\", or 0.22% of its values.\n"
     ]
    }
   ],
   "source": [
    "# % of missing values per column containing NaNs\n",
    "for col in titanicData.columns:\n",
    "    if titanicData[col].isna().sum() != 0:\n",
    "        print(f'There are {titanicData[col].isna().sum()} NaN values in column \"{col}\", or {(titanicData[col].isna().sum()/titanicData[col].shape[0]):.2%} of its values.')\n"
   ]
  },
  {
   "cell_type": "code",
   "execution_count": 9,
   "metadata": {},
   "outputs": [
    {
     "data": {
      "image/png": "[encoded data removed]",
      "text/plain": [
       "<Figure size 800x600 with 1 Axes>"
      ]
     },
     "metadata": {},
     "output_type": "display_data"
    }
   ],
   "source": [
    "# null values heatmap for titanicData\n",
    "\n",
    "fig, ax = plt.subplots(figsize=(8,6))\n",
    "ax = sns.heatmap(data=titanicData.isna().transpose(), cmap=\"YlGnBu\", cbar=False)\n",
    "plt.show()"
   ]
  },
  {
   "cell_type": "markdown",
   "metadata": {},
   "source": [
    "We notice from the above that the known set has missing values in the Age, Cabin and Embarked columns"
   ]
  },
  {
   "cell_type": "code",
   "execution_count": 10,
   "metadata": {},
   "outputs": [
    {
     "name": "stdout",
     "output_type": "stream",
     "text": [
      "<class 'pandas.core.frame.DataFrame'>\n",
      "Index: 418 entries, 892 to 1309\n",
      "Data columns (total 10 columns):\n",
      " #   Column    Non-Null Count  Dtype  \n",
      "---  ------    --------------  -----  \n",
      " 0   Pclass    418 non-null    int64  \n",
      " 1   Name      418 non-null    object \n",
      " 2   Sex       418 non-null    object \n",
      " 3   Age       332 non-null    float64\n",
      " 4   SibSp     418 non-null    int64  \n",
      " 5   Parch     418 non-null    int64  \n",
      " 6   Ticket    418 non-null    object \n",
      " 7   Fare      417 non-null    float64\n",
      " 8   Cabin     91 non-null     object \n",
      " 9   Embarked  418 non-null    object \n",
      "dtypes: float64(2), int64(3), object(5)\n",
      "memory usage: 35.9+ KB\n"
     ]
    }
   ],
   "source": [
    "# relevant info of unknownData \n",
    "unknownData.info()"
   ]
  },
  {
   "cell_type": "code",
   "execution_count": 11,
   "metadata": {
    "scrolled": true
   },
   "outputs": [
    {
     "name": "stdout",
     "output_type": "stream",
     "text": [
      "Pclass        0\n",
      "Name          0\n",
      "Sex           0\n",
      "Age          86\n",
      "SibSp         0\n",
      "Parch         0\n",
      "Ticket        0\n",
      "Fare          1\n",
      "Cabin       327\n",
      "Embarked      0\n",
      "dtype: int64\n"
     ]
    }
   ],
   "source": [
    "# Missing values per column in unknownData \n",
    "print(unknownData.isna().sum())"
   ]
  },
  {
   "cell_type": "code",
   "execution_count": 12,
   "metadata": {},
   "outputs": [
    {
     "name": "stdout",
     "output_type": "stream",
     "text": [
      "There are 86 missing values in \"Age\", or 0.21 of its values are missing\n",
      "There are 1 missing values in \"Fare\", or 0.00 of its values are missing\n",
      "There are 327 missing values in \"Cabin\", or 0.78 of its values are missing\n"
     ]
    }
   ],
   "source": [
    "# % of missing values per column containing NaNs\n",
    "for col in unknownData.columns:\n",
    "    if unknownData[col].isna().sum() != 0: \n",
    "        print(f'There are {unknownData[col].isna().sum()} missing values in \"{col}\", or {(unknownData[col].isna().sum() / unknownData[col].shape[0]):.2f} of its values are missing')"
   ]
  },
  {
   "cell_type": "code",
   "execution_count": 13,
   "metadata": {},
   "outputs": [
    {
     "data": {
      "image/png": "[encoded data removed]",
      "text/plain": [
       "<Figure size 800x600 with 1 Axes>"
      ]
     },
     "metadata": {},
     "output_type": "display_data"
    }
   ],
   "source": [
    "# null values heatmap for unknownData\n",
    "fig, ax = plt.subplots(figsize=(8,6))\n",
    "ax = sns.heatmap(data=unknownData.isna().transpose(), cmap='YlGnBu', cbar=False)\n",
    "plt.show()"
   ]
  },
  {
   "cell_type": "markdown",
   "metadata": {},
   "source": [
    "**The unknown set has missing values in Age, Cabin and Fare columns**\n",
    "\n",
    "I always look for missing values in all features sets I hold (here not only the known/labeled data, but also the unknown which I want to make predictions on - plus I inspect this before even splitting between X_train and X_test, and even before splitting to X and y - <u>missing values in 'y' for the training data => dropna, those data samples are useless in training my model</u>).\n",
    "\n",
    "I will train imputers for ALL those features on the training data (when initially observing model performance that will be X_train, later it will be the whole X of titanicData), even if the training set contains no missing values on those cols. \n",
    "\n",
    "Strategy: \n",
    "- Age (numeric) -> a lot of missing values, replacing them with a constant value would significantly distort their distributions => random imputation \n",
    "- Fare (numeric) -> very small number of missing values, will just replace with the median of the (known) training set's values\n",
    "- Embarked (categorical) -> same as fare but categorical variable, so will replace with the mode/most frequent value of the (known) training values"
   ]
  },
  {
   "cell_type": "markdown",
   "metadata": {},
   "source": [
    "### Feature engineering\n",
    "\n",
    "#### 1. Handling ID variables\n",
    "Here we only have one, so I will retain it as the index of the dataframe. If we had more, I would keep the most important - the one that does the best job identifying unique passengers/data points - and drop the rest (or i could even have multiple indexes in my dataframes, but that would perplex handling them by a lot). \n",
    "\n",
    "This is important due to the fact that ID variables take numerical values that often have wide ranges; as such, retaining them in our features set would result in algorithms being biased towards them, in the sense that they would have an excessive impact on / contribute more to the learning process, at least with regards to distance-based on gradient descent-based models. "
   ]
  },
  {
   "cell_type": "code",
   "execution_count": 14,
   "metadata": {},
   "outputs": [],
   "source": [
    "# When importing the 'titanic_known.csv' dataset into a pandas dataframe, I made sure these values were passed in\n",
    "# as the index of the dataframe. \n",
    "# Of course I did the exact same thing in 'titanic_unknown.csv'."
   ]
  },
  {
   "cell_type": "markdown",
   "metadata": {},
   "source": [
    "#### 2. Feature Creation\n",
    "\n",
    "##### Extracting the <strong><u>Titles</u></strong> of passengers out of their names. \n",
    "I see that they are consisted of consecutive characters ending with '.'.\n",
    "So we could use the 'Name' feature and regular expressions to extract the new feature out of that."
   ]
  },
  {
   "cell_type": "code",
   "execution_count": 15,
   "metadata": {},
   "outputs": [
    {
     "data": {
      "text/html": [
       "<div>\n",
       "<style scoped>\n",
       "    .dataframe tbody tr th:only-of-type {\n",
       "        vertical-align: middle;\n",
       "    }\n",
       "\n",
       "    .dataframe tbody tr th {\n",
       "        vertical-align: top;\n",
       "    }\n",
       "\n",
       "    .dataframe thead th {\n",
       "        text-align: right;\n",
       "    }\n",
       "</style>\n",
       "<table border=\"1\" class=\"dataframe\">\n",
       "  <thead>\n",
       "    <tr style=\"text-align: right;\">\n",
       "      <th></th>\n",
       "      <th>Survived</th>\n",
       "      <th>Pclass</th>\n",
       "      <th>Name</th>\n",
       "      <th>Sex</th>\n",
       "      <th>Age</th>\n",
       "      <th>SibSp</th>\n",
       "      <th>Parch</th>\n",
       "      <th>Ticket</th>\n",
       "      <th>Fare</th>\n",
       "      <th>Cabin</th>\n",
       "      <th>Embarked</th>\n",
       "      <th>Title</th>\n",
       "    </tr>\n",
       "    <tr>\n",
       "      <th>PassengerId</th>\n",
       "      <th></th>\n",
       "      <th></th>\n",
       "      <th></th>\n",
       "      <th></th>\n",
       "      <th></th>\n",
       "      <th></th>\n",
       "      <th></th>\n",
       "      <th></th>\n",
       "      <th></th>\n",
       "      <th></th>\n",
       "      <th></th>\n",
       "      <th></th>\n",
       "    </tr>\n",
       "  </thead>\n",
       "  <tbody>\n",
       "    <tr>\n",
       "      <th>1</th>\n",
       "      <td>0</td>\n",
       "      <td>3</td>\n",
       "      <td>Braund, Mr. Owen Harris</td>\n",
       "      <td>male</td>\n",
       "      <td>22.0</td>\n",
       "      <td>1</td>\n",
       "      <td>0</td>\n",
       "      <td>A/5 21171</td>\n",
       "      <td>7.25</td>\n",
       "      <td>NaN</td>\n",
       "      <td>S</td>\n",
       "      <td>Mr</td>\n",
       "    </tr>\n",
       "    <tr>\n",
       "      <th>2</th>\n",
       "      <td>1</td>\n",
       "      <td>1</td>\n",
       "      <td>Cumings, Mrs. John Bradley (Florence Briggs Th...</td>\n",
       "      <td>female</td>\n",
       "      <td>38.0</td>\n",
       "      <td>1</td>\n",
       "      <td>0</td>\n",
       "      <td>PC 17599</td>\n",
       "      <td>71.28</td>\n",
       "      <td>C85</td>\n",
       "      <td>C</td>\n",
       "      <td>Mrs</td>\n",
       "    </tr>\n",
       "  </tbody>\n",
       "</table>\n",
       "</div>"
      ],
      "text/plain": [
       "             Survived  Pclass  \\\n",
       "PassengerId                     \n",
       "1                   0       3   \n",
       "2                   1       1   \n",
       "\n",
       "                                                          Name     Sex   Age  \\\n",
       "PassengerId                                                                    \n",
       "1                                      Braund, Mr. Owen Harris    male  22.0   \n",
       "2            Cumings, Mrs. John Bradley (Florence Briggs Th...  female  38.0   \n",
       "\n",
       "             SibSp  Parch     Ticket   Fare Cabin Embarked Title  \n",
       "PassengerId                                                       \n",
       "1                1      0  A/5 21171   7.25   NaN        S    Mr  \n",
       "2                1      0   PC 17599  71.28   C85        C   Mrs  "
      ]
     },
     "execution_count": 15,
     "metadata": {},
     "output_type": "execute_result"
    }
   ],
   "source": [
    "titanicData['Title'] = ''\n",
    "unknownData['Title'] = ''\n",
    "\n",
    "for i in titanicData:\n",
    "    titanicData['Title'] = titanicData.Name.str.extract('([A-Za-z]+)\\.') \n",
    "\n",
    "for i in unknownData:\n",
    "    unknownData['Title'] = unknownData.Name.str.extract('([A-Za-z]+)\\.')\n",
    "    \n",
    "titanicData.head(2)"
   ]
  },
  {
   "cell_type": "code",
   "execution_count": 16,
   "metadata": {},
   "outputs": [
    {
     "data": {
      "text/html": [
       "<div>\n",
       "<style scoped>\n",
       "    .dataframe tbody tr th:only-of-type {\n",
       "        vertical-align: middle;\n",
       "    }\n",
       "\n",
       "    .dataframe tbody tr th {\n",
       "        vertical-align: top;\n",
       "    }\n",
       "\n",
       "    .dataframe thead th {\n",
       "        text-align: right;\n",
       "    }\n",
       "</style>\n",
       "<table border=\"1\" class=\"dataframe\">\n",
       "  <thead>\n",
       "    <tr style=\"text-align: right;\">\n",
       "      <th>Sex</th>\n",
       "      <th>female</th>\n",
       "      <th>male</th>\n",
       "    </tr>\n",
       "    <tr>\n",
       "      <th>Title</th>\n",
       "      <th></th>\n",
       "      <th></th>\n",
       "    </tr>\n",
       "  </thead>\n",
       "  <tbody>\n",
       "    <tr>\n",
       "      <th>Capt</th>\n",
       "      <td>0</td>\n",
       "      <td>1</td>\n",
       "    </tr>\n",
       "    <tr>\n",
       "      <th>Col</th>\n",
       "      <td>0</td>\n",
       "      <td>2</td>\n",
       "    </tr>\n",
       "    <tr>\n",
       "      <th>Countess</th>\n",
       "      <td>1</td>\n",
       "      <td>0</td>\n",
       "    </tr>\n",
       "    <tr>\n",
       "      <th>Don</th>\n",
       "      <td>0</td>\n",
       "      <td>1</td>\n",
       "    </tr>\n",
       "    <tr>\n",
       "      <th>Dr</th>\n",
       "      <td>1</td>\n",
       "      <td>6</td>\n",
       "    </tr>\n",
       "    <tr>\n",
       "      <th>Jonkheer</th>\n",
       "      <td>0</td>\n",
       "      <td>1</td>\n",
       "    </tr>\n",
       "    <tr>\n",
       "      <th>Lady</th>\n",
       "      <td>1</td>\n",
       "      <td>0</td>\n",
       "    </tr>\n",
       "    <tr>\n",
       "      <th>Major</th>\n",
       "      <td>0</td>\n",
       "      <td>2</td>\n",
       "    </tr>\n",
       "    <tr>\n",
       "      <th>Master</th>\n",
       "      <td>0</td>\n",
       "      <td>40</td>\n",
       "    </tr>\n",
       "    <tr>\n",
       "      <th>Miss</th>\n",
       "      <td>182</td>\n",
       "      <td>0</td>\n",
       "    </tr>\n",
       "    <tr>\n",
       "      <th>Mlle</th>\n",
       "      <td>2</td>\n",
       "      <td>0</td>\n",
       "    </tr>\n",
       "    <tr>\n",
       "      <th>Mme</th>\n",
       "      <td>1</td>\n",
       "      <td>0</td>\n",
       "    </tr>\n",
       "    <tr>\n",
       "      <th>Mr</th>\n",
       "      <td>0</td>\n",
       "      <td>517</td>\n",
       "    </tr>\n",
       "    <tr>\n",
       "      <th>Mrs</th>\n",
       "      <td>125</td>\n",
       "      <td>0</td>\n",
       "    </tr>\n",
       "    <tr>\n",
       "      <th>Ms</th>\n",
       "      <td>1</td>\n",
       "      <td>0</td>\n",
       "    </tr>\n",
       "    <tr>\n",
       "      <th>Rev</th>\n",
       "      <td>0</td>\n",
       "      <td>6</td>\n",
       "    </tr>\n",
       "    <tr>\n",
       "      <th>Sir</th>\n",
       "      <td>0</td>\n",
       "      <td>1</td>\n",
       "    </tr>\n",
       "  </tbody>\n",
       "</table>\n",
       "</div>"
      ],
      "text/plain": [
       "Sex       female  male\n",
       "Title                 \n",
       "Capt           0     1\n",
       "Col            0     2\n",
       "Countess       1     0\n",
       "Don            0     1\n",
       "Dr             1     6\n",
       "Jonkheer       0     1\n",
       "Lady           1     0\n",
       "Major          0     2\n",
       "Master         0    40\n",
       "Miss         182     0\n",
       "Mlle           2     0\n",
       "Mme            1     0\n",
       "Mr             0   517\n",
       "Mrs          125     0\n",
       "Ms             1     0\n",
       "Rev            0     6\n",
       "Sir            0     1"
      ]
     },
     "execution_count": 16,
     "metadata": {},
     "output_type": "execute_result"
    }
   ],
   "source": [
    "# Inspect the various titles created, plus their distribution among the sexes in this dataset of passengers on the Titanic\n",
    "pd.crosstab(index=titanicData['Title'], columns=titanicData['Sex'])"
   ]
  },
  {
   "cell_type": "markdown",
   "metadata": {},
   "source": [
    "We see that all titles, except for 'Dr', are sex-specific. However, that does now come in handy for further feature creation based on that, as it would just convey redundant information that is already anyways contained in the 'Sex' column. "
   ]
  },
  {
   "cell_type": "markdown",
   "metadata": {},
   "source": [
    "We can replace many titles with a more common name or classify them as a new value 'Other'"
   ]
  },
  {
   "cell_type": "code",
   "execution_count": 17,
   "metadata": {},
   "outputs": [
    {
     "data": {
      "text/html": [
       "<div>\n",
       "<style scoped>\n",
       "    .dataframe tbody tr th:only-of-type {\n",
       "        vertical-align: middle;\n",
       "    }\n",
       "\n",
       "    .dataframe tbody tr th {\n",
       "        vertical-align: top;\n",
       "    }\n",
       "\n",
       "    .dataframe thead th {\n",
       "        text-align: right;\n",
       "    }\n",
       "</style>\n",
       "<table border=\"1\" class=\"dataframe\">\n",
       "  <thead>\n",
       "    <tr style=\"text-align: right;\">\n",
       "      <th></th>\n",
       "      <th>Title</th>\n",
       "      <th>Survived</th>\n",
       "    </tr>\n",
       "  </thead>\n",
       "  <tbody>\n",
       "    <tr>\n",
       "      <th>0</th>\n",
       "      <td>Master</td>\n",
       "      <td>40</td>\n",
       "    </tr>\n",
       "    <tr>\n",
       "      <th>1</th>\n",
       "      <td>Miss</td>\n",
       "      <td>185</td>\n",
       "    </tr>\n",
       "    <tr>\n",
       "      <th>2</th>\n",
       "      <td>Mr</td>\n",
       "      <td>517</td>\n",
       "    </tr>\n",
       "    <tr>\n",
       "      <th>3</th>\n",
       "      <td>Mrs</td>\n",
       "      <td>126</td>\n",
       "    </tr>\n",
       "    <tr>\n",
       "      <th>4</th>\n",
       "      <td>Other</td>\n",
       "      <td>23</td>\n",
       "    </tr>\n",
       "  </tbody>\n",
       "</table>\n",
       "</div>"
      ],
      "text/plain": [
       "    Title  Survived\n",
       "0  Master        40\n",
       "1    Miss       185\n",
       "2      Mr       517\n",
       "3     Mrs       126\n",
       "4   Other        23"
      ]
     },
     "execution_count": 17,
     "metadata": {},
     "output_type": "execute_result"
    }
   ],
   "source": [
    "for dataset in [titanicData, unknownData]:\n",
    "    # grouping noble titles together\n",
    "    dataset['Title'] = dataset['Title'].replace(['Lady', 'Countess','Capt', 'Col', 'Don', 'Dr', 'Major', 'Rev', 'Sir', 'Jonkheer', 'Dona'], 'Other')\n",
    "    dataset['Title'] = dataset['Title'].replace('Mlle', 'Miss')  # not-married woman\n",
    "    dataset['Title'] = dataset['Title'].replace('Ms', 'Miss')  # not-married woman\n",
    "    dataset['Title'] = dataset['Title'].replace('Mme', 'Mrs')\n",
    "    # + we also have the 'Master' title, denoting a young boy \n",
    "\n",
    "titanicData[['Title', 'Survived']].groupby(['Title'], as_index=False).count()"
   ]
  },
  {
   "cell_type": "markdown",
   "metadata": {},
   "source": [
    "##### Extracting the <strong><u>'Deck'</u></strong> that passengers had a cabin on\n",
    "\n",
    "As a first thought, we can delete the ‘Cabin’ feature but there's something rather interesting. A cabin number looks like ‘C123’ and the letter refers to the deck. Therefore we could extract these and create a new feature, that contains a person's deck. Afterwards, we will convert the feature into a numeric variable. The missing values will be converted to zero. The actual decks of the titanic are ranging from A to G."
   ]
  },
  {
   "cell_type": "code",
   "execution_count": 18,
   "metadata": {},
   "outputs": [],
   "source": [
    "# inspecting which cabin letters are included in the test dataset \n",
    "cabin_letters = [] \n",
    "for i in titanicData.index:\n",
    "    if not titanicData.loc[i, 'Cabin'] != titanicData.loc[i, 'Cabin']:  # easiest way to see if a value is nan (either np.nan or math.nan)\n",
    "        cabin_letters.append(titanicData.loc[i,'Cabin'][0])\n",
    "    else:   \n",
    "        cabin_letters.append(np.nan)\n",
    "\n",
    "cabin_letters = pd.Series(cabin_letters, index=titanicData.index)"
   ]
  },
  {
   "cell_type": "code",
   "execution_count": 19,
   "metadata": {},
   "outputs": [
    {
     "name": "stdout",
     "output_type": "stream",
     "text": [
      "C    59\n",
      "B    47\n",
      "D    33\n",
      "E    32\n",
      "A    15\n",
      "F    13\n",
      "G     4\n",
      "T     1\n",
      "Name: count, dtype: int64\n"
     ]
    }
   ],
   "source": [
    "print(cabin_letters.value_counts())"
   ]
  },
  {
   "cell_type": "code",
   "execution_count": null,
   "metadata": {},
   "outputs": [],
   "source": [
    "# Mapping these letters to numbers\n",
    "deck = {\"A\": 1, \"B\": 2, \"C\": 3, \"D\": 4, \"E\": 5, \"F\": 6, \"G\": 7, \"U\": 8}\n",
    "data = [titanicData, unknownData]\n",
    "\n",
    "for dataset in data:\n",
    "    dataset['Cabin'] = dataset['Cabin'].fillna(\"X\")  # For each dataset, the 'Cabin' column is filled with \"X\" where there are missing values using the fillna method.\n",
    "    dataset['Deck']  = dataset['Cabin'].map(lambda x: re.compile(\"([a-zA-Z]+)\").search(x).group())  # The 'Deck' column is created by extracting the first letter from the 'Cabin' column using a regular expression. This is done using the map function with a lambda function.\n",
    "    dataset['Deck']  = dataset['Deck'].map(deck)  # The extracted letter is then mapped to its corresponding numerical value from the deck dictionary. \n",
    "    dataset['Deck']  = dataset['Deck'].fillna(0)\n",
    "    dataset['Deck']  = dataset['Deck'].astype(int)\n",
    "\n",
    "titanicData['Deck'].value_counts()"
   ]
  },
  {
   "cell_type": "markdown",
   "metadata": {},
   "source": [
    "The new 'Deck' variable is one of numeric nature: higher values actually mean sth and may contribute to the probabiliyty of someone to survive, so we may not encode it. "
   ]
  },
  {
   "cell_type": "markdown",
   "metadata": {},
   "source": [
    "##### Extract the <strong><u>FamilySize</u></strong> and whether a passenger <strong><u>IsAlone</u></strong> from 'SibSp' and 'Parch'\n",
    "\n",
    "SibSp and Parch would make more sense as a combined feature, that shows the total number of relatives a person has on the Titanic. We can create it as follows and also create a feature that shows if someone is not alone."
   ]
  },
  {
   "cell_type": "code",
   "execution_count": 21,
   "metadata": {},
   "outputs": [
    {
     "data": {
      "text/html": [
       "<div>\n",
       "<style scoped>\n",
       "    .dataframe tbody tr th:only-of-type {\n",
       "        vertical-align: middle;\n",
       "    }\n",
       "\n",
       "    .dataframe tbody tr th {\n",
       "        vertical-align: top;\n",
       "    }\n",
       "\n",
       "    .dataframe thead th {\n",
       "        text-align: right;\n",
       "    }\n",
       "</style>\n",
       "<table border=\"1\" class=\"dataframe\">\n",
       "  <thead>\n",
       "    <tr style=\"text-align: right;\">\n",
       "      <th></th>\n",
       "      <th>FamilySize</th>\n",
       "      <th>Survived</th>\n",
       "    </tr>\n",
       "  </thead>\n",
       "  <tbody>\n",
       "    <tr>\n",
       "      <th>0</th>\n",
       "      <td>1</td>\n",
       "      <td>537</td>\n",
       "    </tr>\n",
       "    <tr>\n",
       "      <th>1</th>\n",
       "      <td>2</td>\n",
       "      <td>161</td>\n",
       "    </tr>\n",
       "    <tr>\n",
       "      <th>2</th>\n",
       "      <td>3</td>\n",
       "      <td>102</td>\n",
       "    </tr>\n",
       "    <tr>\n",
       "      <th>3</th>\n",
       "      <td>4</td>\n",
       "      <td>29</td>\n",
       "    </tr>\n",
       "    <tr>\n",
       "      <th>5</th>\n",
       "      <td>6</td>\n",
       "      <td>22</td>\n",
       "    </tr>\n",
       "    <tr>\n",
       "      <th>4</th>\n",
       "      <td>5</td>\n",
       "      <td>15</td>\n",
       "    </tr>\n",
       "    <tr>\n",
       "      <th>6</th>\n",
       "      <td>7</td>\n",
       "      <td>12</td>\n",
       "    </tr>\n",
       "    <tr>\n",
       "      <th>8</th>\n",
       "      <td>11</td>\n",
       "      <td>7</td>\n",
       "    </tr>\n",
       "    <tr>\n",
       "      <th>7</th>\n",
       "      <td>8</td>\n",
       "      <td>6</td>\n",
       "    </tr>\n",
       "  </tbody>\n",
       "</table>\n",
       "</div>"
      ],
      "text/plain": [
       "   FamilySize  Survived\n",
       "0           1       537\n",
       "1           2       161\n",
       "2           3       102\n",
       "3           4        29\n",
       "5           6        22\n",
       "4           5        15\n",
       "6           7        12\n",
       "8          11         7\n",
       "7           8         6"
      ]
     },
     "execution_count": 21,
     "metadata": {},
     "output_type": "execute_result"
    }
   ],
   "source": [
    "data = [titanicData, unknownData]\n",
    "\n",
    "for dataset in data:\n",
    "    dataset['FamilySize'] = dataset['SibSp'] + dataset['Parch'] + 1  # '+1' corresponds to themselves for each passenger at hand\n",
    "\n",
    "titanicData[['FamilySize', 'Survived']].groupby(['FamilySize'], as_index=False).count().sort_values(by='Survived', ascending=False)"
   ]
  },
  {
   "cell_type": "markdown",
   "metadata": {},
   "source": [
    "The smaller the family size, the more likely seems to be for someone to survive such an accident; this could be for example be attributable to the fact that having more family members means they would need to spare a significant of their survival efforts to help others instead of themselves."
   ]
  },
  {
   "cell_type": "code",
   "execution_count": 22,
   "metadata": {},
   "outputs": [
    {
     "data": {
      "text/html": [
       "<div>\n",
       "<style scoped>\n",
       "    .dataframe tbody tr th:only-of-type {\n",
       "        vertical-align: middle;\n",
       "    }\n",
       "\n",
       "    .dataframe tbody tr th {\n",
       "        vertical-align: top;\n",
       "    }\n",
       "\n",
       "    .dataframe thead th {\n",
       "        text-align: right;\n",
       "    }\n",
       "</style>\n",
       "<table border=\"1\" class=\"dataframe\">\n",
       "  <thead>\n",
       "    <tr style=\"text-align: right;\">\n",
       "      <th></th>\n",
       "      <th>IsAlone</th>\n",
       "      <th>Survived</th>\n",
       "    </tr>\n",
       "  </thead>\n",
       "  <tbody>\n",
       "    <tr>\n",
       "      <th>0</th>\n",
       "      <td>0</td>\n",
       "      <td>354</td>\n",
       "    </tr>\n",
       "    <tr>\n",
       "      <th>1</th>\n",
       "      <td>1</td>\n",
       "      <td>537</td>\n",
       "    </tr>\n",
       "  </tbody>\n",
       "</table>\n",
       "</div>"
      ],
      "text/plain": [
       "   IsAlone  Survived\n",
       "0        0       354\n",
       "1        1       537"
      ]
     },
     "execution_count": 22,
     "metadata": {},
     "output_type": "execute_result"
    }
   ],
   "source": [
    "for dataset in data:\n",
    "    dataset['IsAlone'] = 0\n",
    "    dataset['IsAlone'] = np.where(dataset['FamilySize'] == 1, 1, 0)\n",
    "\n",
    "titanicData[['IsAlone', 'Survived']].groupby(['IsAlone'], as_index=False).count()"
   ]
  },
  {
   "cell_type": "markdown",
   "metadata": {},
   "source": [
    "#### 3. Dropping useless features: 'Name', 'Ticket' and 'Cabin' columns\n",
    "The non-Na values of those columns bare no analytical signifcance on their own; they are categorical and have a unique value per passenger. \n",
    "\n",
    "<strong><></strong> the same does <strong>NOT</strong> hold true for the numeric variables 'SibSp' and 'Parch' which we retain in our datasets after extracting features off of them - they still bare distinct information that could help explain the variance observed between data points. "
   ]
  },
  {
   "cell_type": "code",
   "execution_count": 23,
   "metadata": {},
   "outputs": [
    {
     "data": {
      "text/html": [
       "<div>\n",
       "<style scoped>\n",
       "    .dataframe tbody tr th:only-of-type {\n",
       "        vertical-align: middle;\n",
       "    }\n",
       "\n",
       "    .dataframe tbody tr th {\n",
       "        vertical-align: top;\n",
       "    }\n",
       "\n",
       "    .dataframe thead th {\n",
       "        text-align: right;\n",
       "    }\n",
       "</style>\n",
       "<table border=\"1\" class=\"dataframe\">\n",
       "  <thead>\n",
       "    <tr style=\"text-align: right;\">\n",
       "      <th></th>\n",
       "      <th>Survived</th>\n",
       "      <th>Pclass</th>\n",
       "      <th>Sex</th>\n",
       "      <th>Age</th>\n",
       "      <th>SibSp</th>\n",
       "      <th>Parch</th>\n",
       "      <th>Fare</th>\n",
       "      <th>Embarked</th>\n",
       "      <th>Title</th>\n",
       "      <th>Deck</th>\n",
       "      <th>FamilySize</th>\n",
       "      <th>IsAlone</th>\n",
       "    </tr>\n",
       "    <tr>\n",
       "      <th>PassengerId</th>\n",
       "      <th></th>\n",
       "      <th></th>\n",
       "      <th></th>\n",
       "      <th></th>\n",
       "      <th></th>\n",
       "      <th></th>\n",
       "      <th></th>\n",
       "      <th></th>\n",
       "      <th></th>\n",
       "      <th></th>\n",
       "      <th></th>\n",
       "      <th></th>\n",
       "    </tr>\n",
       "  </thead>\n",
       "  <tbody>\n",
       "    <tr>\n",
       "      <th>1</th>\n",
       "      <td>0</td>\n",
       "      <td>3</td>\n",
       "      <td>male</td>\n",
       "      <td>22.0</td>\n",
       "      <td>1</td>\n",
       "      <td>0</td>\n",
       "      <td>7.25</td>\n",
       "      <td>S</td>\n",
       "      <td>Mr</td>\n",
       "      <td>0</td>\n",
       "      <td>2</td>\n",
       "      <td>0</td>\n",
       "    </tr>\n",
       "    <tr>\n",
       "      <th>2</th>\n",
       "      <td>1</td>\n",
       "      <td>1</td>\n",
       "      <td>female</td>\n",
       "      <td>38.0</td>\n",
       "      <td>1</td>\n",
       "      <td>0</td>\n",
       "      <td>71.28</td>\n",
       "      <td>C</td>\n",
       "      <td>Mrs</td>\n",
       "      <td>3</td>\n",
       "      <td>2</td>\n",
       "      <td>0</td>\n",
       "    </tr>\n",
       "  </tbody>\n",
       "</table>\n",
       "</div>"
      ],
      "text/plain": [
       "             Survived  Pclass     Sex   Age  SibSp  Parch   Fare Embarked  \\\n",
       "PassengerId                                                                 \n",
       "1                   0       3    male  22.0      1      0   7.25        S   \n",
       "2                   1       1  female  38.0      1      0  71.28        C   \n",
       "\n",
       "            Title  Deck  FamilySize  IsAlone  \n",
       "PassengerId                                   \n",
       "1              Mr     0           2        0  \n",
       "2             Mrs     3           2        0  "
      ]
     },
     "execution_count": 23,
     "metadata": {},
     "output_type": "execute_result"
    }
   ],
   "source": [
    "# Drop the features ['Name', 'Ticket','Cabin'] of your titanicData - set the axis accordingly - inplace or with replacement. \n",
    "# Preview the first 2 rows of titanicData\n",
    "for dataset in [titanicData, unknownData]:\n",
    "    dataset.drop(['Name','Ticket','Cabin'], axis=1, inplace=True)\n",
    "titanicData.head(2)"
   ]
  },
  {
   "cell_type": "markdown",
   "metadata": {},
   "source": [
    "***"
   ]
  },
  {
   "cell_type": "markdown",
   "metadata": {},
   "source": [
    "### Split to X and y"
   ]
  },
  {
   "cell_type": "code",
   "execution_count": 24,
   "metadata": {},
   "outputs": [],
   "source": [
    "X = titanicData.drop('Survived', axis=1)\n",
    "y = titanicData['Survived']"
   ]
  },
  {
   "cell_type": "markdown",
   "metadata": {},
   "source": [
    "Inspecting the distribution of class labels in y:"
   ]
  },
  {
   "cell_type": "code",
   "execution_count": 25,
   "metadata": {},
   "outputs": [
    {
     "name": "stdout",
     "output_type": "stream",
     "text": [
      "Distribution of absolute class sizes in y: Survived\n",
      "0    549\n",
      "1    342\n",
      "Name: count, dtype: int64 \n",
      "\n",
      "\n",
      "Distribution of relative class sizes in y: Survived\n",
      "0    0.62\n",
      "1    0.38\n",
      "Name: proportion, dtype: float64\n"
     ]
    }
   ],
   "source": [
    "print('Distribution of absolute class sizes in y:', y.value_counts(), '\\n'*2)\n",
    "print('Distribution of relative class sizes in y:', y.value_counts(normalize=True))"
   ]
  },
  {
   "cell_type": "markdown",
   "metadata": {},
   "source": [
    "There are class imbalances we need to take into account - it was far more possible for someone to die (majority) than to survive (minority class).\n",
    "- do stratified splitting when performing the 'train_test_split' so as to make sure y_test and y_train have the same relative distribution of class labels \n",
    "- perform STRATIFIED cross validation when tuning the models (+ specifically for the svm model's case: check if applying different weights on samples pertaining to the different classes improves the model's performance)\n",
    "- maybe implement sampling techniques\n",
    "- when assessing the performance of models, check on performance metrics that are robust against class imbalances\n",
    "\n",
    "(check on our group project as well for some more comprehensive dealing with class imbalances)"
   ]
  },
  {
   "cell_type": "markdown",
   "metadata": {},
   "source": [
    "**We take into account class imbalances**\n",
    "Most ML algos used for classification wre designed around the assumption of an equal # of samples for each class. \n",
    "\n",
    "If this principle is violated and we do not address it, , the results would be biased towards the majority class. In other terms, the model would be more \"eager\" to classify samples (new/unseen) as belonging to the majority class than the minority class, and that would lead to poor generalization performance for the minority class (many classification errors for samples belonging to it). This is especially bad because that class is typically more important with regards to our interests which drive us to conduct the analysis. \n",
    "\n",
    "**Solution** By stratified validation we take into account the exact imbalances in the given training data for all iterations so as to find the model that performs the best at generalizing under the given imbalances. "
   ]
  },
  {
   "cell_type": "code",
   "execution_count": 26,
   "metadata": {},
   "outputs": [
    {
     "data": {
      "image/png": "[encoded data removed]",
      "text/plain": [
       "<Figure size 1400x900 with 1 Axes>"
      ]
     },
     "metadata": {},
     "output_type": "display_data"
    }
   ],
   "source": [
    "# Visualizing the previous: \n",
    "fig, ax = plt.subplots(figsize=(14,9))\n",
    "ax = sns.countplot(data=titanicData, x='Survived')\n",
    "ax.bar_label(container=ax.containers[0], labels=y.value_counts(ascending=False))\n",
    "plt.show()"
   ]
  },
  {
   "cell_type": "markdown",
   "metadata": {},
   "source": [
    "### Pre-processing on the dependent variable\n",
    "Class labels are already encoded, so I will not need to use the LabelEncoder class of sklearn to take care of this. \n",
    "\n",
    "In case the classes were represented by string/boolean values, I would have to encode them to numerical ones because sklearn ML model implementations require that all input is numeric. \n",
    "!!! The approach suggested, i.e. LabelEncoder, is suitable for encoding ONLY the labels of the class variable; doing the same on the columns of the features set would lead to variables taking multiple numeric values (talking about non-binary cases). As a result, ML models would consider those CLASSES as being of different importance in the learning process, according to their numerical values' hierarchy. \n",
    "Also, because these encoded VARIABLES would have different ranges (in the non-binary cases), the algorithms would consider them as not contributing the same to explaining the signal in the learning process, which would distort our results. "
   ]
  },
  {
   "cell_type": "markdown",
   "metadata": {},
   "source": [
    "***"
   ]
  },
  {
   "cell_type": "markdown",
   "metadata": {},
   "source": [
    "We are **NOT** using ALL of the available data in the training process. Instead, we implement model validation techniques. In this analysis, we implement a holdout validation technique, the 'train-test-split' approach, which randomly splits the data in our available dataset into two sets, the training set and the testing set, which are disjoint. \n",
    "\n",
    "The sets are created in a random way so as to prevent biased/skewed output, and the split also happens in a stratified manner (here under a case of class imbalances) so as to make sure that all cross validation iterations for the models we train take into account the exact imbalances present in the given dataset, so we compare their performance under these exact conditions to find the one best suited to our case. \n",
    "\n",
    "The sets are disjoint so as to avoid data leakage, i.e. to avoid passing information from the test set (which is used to assess a model's generalization performance) to the training set (i.e. the set it is used to \"learn\" upon).\n",
    "\n",
    "If they weren't disjoint or if no validation happened at all, meaning that we trained the set on the totality of known data and compared its performance for various hyperparameter values on the same data it was trained upon, the model would give deceptively good performance metrics values. <s>That is because it would have some 'hints' on the associations between the data feature values and the class labels in the data it would be called to predict upon, and it would such optimal hyperparameter values so as to maximize its performance on those data.</s>\n",
    "\n",
    "Thus, we perform model validation so as to prevent overfitting; this is what would happen if we tried to maximize its performance on the whole given dataset. This would occur because the models would capture not only the associations between the features set and the class labels, but they would also get trained on the very noise contained in the dataset we happened to have as available. The hyperparameters would be tuned to such values, therefore, which would lead to good performance on the training set (i.e. low error) but very bad generalization performance (i.e. high error on the testing set and unseen/unknown/new data), since it would effectively just memorize the characteristics of this very specific dataset and repeat them on new/unseen data samples.  "
   ]
  },
  {
   "cell_type": "markdown",
   "metadata": {},
   "source": [
    "### Train/test split\n",
    "We will use the sklearn.model_selection.train_test_split function to split the KNOWN data in two datasets: the training set which we'll use to train our models on, and the test set we'll use to check their generalization performance. If we didn't do so, and we checked the performance of the algorithm on the same data it was trained upon, then it would show very good performance because there would be 'data leakage'; it would already have some 'hints' on the associations between the data it would be called to predict upon, so it would do better than it would if it given unknown data. \n",
    "\n",
    "Also, by tuning our model on the <strong>whole</strong> KNOWN dataset way we would just overfit the model to it, by making it perform the best on it, ignoring the fact that it would capture not just the signal but also the noise that our specific dataset bares, so it would have bad generalization performance. "
   ]
  },
  {
   "cell_type": "code",
   "execution_count": 27,
   "metadata": {},
   "outputs": [
    {
     "name": "stdout",
     "output_type": "stream",
     "text": [
      "Shape of X_train: (623, 11)\n",
      "Shape of X_test: (268, 11)\n",
      "Shape of y_train: (623,)\n",
      "Shape of y_test: (268,)\n"
     ]
    }
   ],
   "source": [
    "# Use the train_test_split() function from sklearn. Use 30% of your data for the test set. Use stratification if needed. \n",
    "# Set random_state=1 (for reproducibility). Print the dimensionality (shape) of X_train, X_test, y_train, y_test \n",
    "X_train, X_test, y_train, y_test = train_test_split(X, y, test_size=0.3, random_state=1, stratify=y)\n",
    "print('Shape of X_train:', X_train.shape)\n",
    "print('Shape of X_test:', X_test.shape)\n",
    "print('Shape of y_train:', y_train.shape)\n",
    "print('Shape of y_test:', y_test.shape)\n",
    "# Sanity check passed: X_train and X_test have the same number of cols, and their sum of rows (similarly for y_train and y_test) sums\n",
    "# up to X.shape[0]"
   ]
  },
  {
   "cell_type": "markdown",
   "metadata": {},
   "source": [
    "***\n",
    "\n",
    "### Pre-processing on the features set"
   ]
  },
  {
   "cell_type": "markdown",
   "metadata": {},
   "source": [
    "### 1.Imputing - dealing with missing values\n",
    "\n",
    "In the case of missing values, we should take care to replace them in the dataset as they prevent machine learning algorithms to run. There are many functions such as `.fillna()` and `.SimpleImputer` from `sklearn` as well as **many strategies** to help with missing data and they depend on whether the missing data is **numeric** or **categorical**.  \n",
    "\n",
    "What strategy is best for you problem very much depends on the specifics of your dataset. However, generally speaking it is not worth to remove large chunks of data.\n",
    "\n",
    "- simply removing rows where there is missing data (e.g. `dropna()` can achieve this)\n",
    "- imputing the values with a summary statistic such as mean or median or most frequent value (e.g. `.fillna()` from `pandas` or `.SimpleImputer()` from `sklearn` module)\n",
    "- replace the values with a reasonable estimate"
   ]
  },
  {
   "cell_type": "code",
   "execution_count": 28,
   "metadata": {},
   "outputs": [
    {
     "name": "stdout",
     "output_type": "stream",
     "text": [
      "Nulls in X_train --------------------\n",
      "Pclass          0\n",
      "Sex             0\n",
      "Age           122\n",
      "SibSp           0\n",
      "Parch           0\n",
      "Fare            0\n",
      "Embarked        2\n",
      "Title           0\n",
      "Deck            0\n",
      "FamilySize      0\n",
      "IsAlone         0\n",
      "dtype: int64\n",
      "Nulls in X_test --------------------\n",
      "Pclass         0\n",
      "Sex            0\n",
      "Age           55\n",
      "SibSp          0\n",
      "Parch          0\n",
      "Fare           0\n",
      "Embarked       0\n",
      "Title          0\n",
      "Deck           0\n",
      "FamilySize     0\n",
      "IsAlone        0\n",
      "dtype: int64\n",
      "Nulls in unknownData --------------------\n",
      "Pclass         0\n",
      "Sex            0\n",
      "Age           86\n",
      "SibSp          0\n",
      "Parch          0\n",
      "Fare           1\n",
      "Embarked       0\n",
      "Title          0\n",
      "Deck           0\n",
      "FamilySize     0\n",
      "IsAlone        0\n",
      "dtype: int64\n"
     ]
    }
   ],
   "source": [
    "# Let's quickly print the NAs per dataset \n",
    "\n",
    "print(\"Nulls in X_train\",\"-\"*20)\n",
    "print(X_train.isnull().sum())\n",
    "\n",
    "print(\"Nulls in X_test\",\"-\"*20)\n",
    "print(X_test.isnull().sum())\n",
    "\n",
    "print(\"Nulls in unknownData\",\"-\"*20)\n",
    "print(unknownData.isnull().sum())\n",
    "\n"
   ]
  },
  {
   "cell_type": "code",
   "execution_count": 29,
   "metadata": {},
   "outputs": [
    {
     "name": "stdout",
     "output_type": "stream",
     "text": [
      "\n",
      "NAs in dataset \"X_train:\"\n",
      "Column \"Age\": 122\n",
      "Column \"Embarked\": 2\n",
      "\n",
      "NAs in dataset \"X_test:\"\n",
      "Column \"Age\": 55\n",
      "\n",
      "NAs in dataset \"unknownData:\"\n",
      "Column \"Age\": 86\n",
      "Column \"Fare\": 1\n"
     ]
    }
   ],
   "source": [
    "# better show only the number of NAs in columns that actually contain missing values for each dataset:\n",
    "dataset_names = [\"X_train\", \"X_test\", \"unknownData\"]\n",
    "datasets = [X_train, X_test, unknownData]\n",
    "for i in range(len(datasets)):\n",
    "    dataset = datasets[i]\n",
    "    print(f'\\nNAs in dataset \"{dataset_names[i]}\":')\n",
    "    for col in dataset.columns:\n",
    "        if dataset[col].isna().sum() != 0: \n",
    "            print(f'Column \"{col}\": {dataset[col].isna().sum()}')"
   ]
  },
  {
   "cell_type": "code",
   "execution_count": 32,
   "metadata": {},
   "outputs": [
    {
     "name": "stdout",
     "output_type": "stream",
     "text": [
      "randomise missing data for DataFrame (within a column) based on the distribution of known values in the corresponding col of the training set\n"
     ]
    }
   ],
   "source": [
    "# We will implement the imputation strategy previously defined: \n",
    "\n",
    "\n",
    "## Random imputation for 'Age' ## If I had multiple variables I wanted to perform random imputation on, I would just repeat this \n",
    "# for all of them - perhaps just create a function \n",
    "#################################\n",
    "# these are the -initially- known/non-null values of X_train\n",
    "# so I will do the same as fit_transform an imputer on training data and only fitting it on testing data\n",
    "print(\"randomise missing data for DataFrame (within a column) based on the distribution of known values in the corresponding col of the training set\")\n",
    "training_data =X_train['Age'][X_train['Age'].isna() == False].values\n",
    "for dataset in [X_train, X_test, unknownData]:\n",
    "    data = dataset['Age']\n",
    "    nulls_in_current_df = data.isna()\n",
    "    samples = random.choices(training_data, k=nulls_in_current_df.sum())  # random.choices without any arguments respects the distribution of values in the mentioned column\n",
    "    dataset.loc[nulls_in_current_df[nulls_in_current_df == True].index, 'Age'] = samples\n"
   ]
  },
  {
   "cell_type": "code",
   "execution_count": 31,
   "metadata": {},
   "outputs": [
    {
     "ename": "IndexError",
     "evalue": "list index out of range",
     "output_type": "error",
     "traceback": [
      "\u001b[0;31m---------------------------------------------------------------------------\u001b[0m",
      "\u001b[0;31mIndexError\u001b[0m                                Traceback (most recent call last)",
      "Cell \u001b[0;32mIn[31], line 24\u001b[0m\n\u001b[1;32m     22\u001b[0m \u001b[38;5;28;01mfor\u001b[39;00m col \u001b[38;5;129;01min\u001b[39;00m col_names:\n\u001b[1;32m     23\u001b[0m     j \u001b[38;5;241m+\u001b[39m\u001b[38;5;241m=\u001b[39m \u001b[38;5;241m1\u001b[39m \n\u001b[0;32m---> 24\u001b[0m     dataset\u001b[38;5;241m.\u001b[39mloc[:, col] \u001b[38;5;241m=\u001b[39m \u001b[43mresulting_cols\u001b[49m\u001b[43m[\u001b[49m\u001b[43mi\u001b[49m\u001b[38;5;241;43m+\u001b[39;49m\u001b[43mj\u001b[49m\u001b[43m]\u001b[49m\n",
      "\u001b[0;31mIndexError\u001b[0m: list index out of range"
     ]
    }
   ],
   "source": [
    "training_set = X_train\n",
    "all_sets_list = [X_train, X_test, unknownData]\n",
    "col_names = ['Age']\n",
    "\n",
    "def random_imputation(training_set, all_sets_list, col_names):\n",
    "    resulting_cols = []\n",
    "    for col in col_names:\n",
    "        training_data = training_set[col][training_set[col].isna() == False].values\n",
    "        for dataset in all_sets_list:\n",
    "            nulls_in_current_df = dataset[col].isna()\n",
    "            samples = random.choices(training_data, k=nulls_in_current_df.sum())\n",
    "            dataset.loc[nulls_in_current_df[nulls_in_current_df == True].index, col] = samples\n",
    "            resulting_cols.append(dataset[col])\n",
    "    \n",
    "    return resulting_cols\n",
    "\n",
    "resulting_cols = random_imputation(training_set, all_sets_list, col_names)\n",
    "i = -1 \n",
    "j = -1\n",
    "for dataset in all_sets_list:\n",
    "    i += 1\n",
    "    for col in col_names:\n",
    "        j += 1 \n",
    "        dataset.loc[:, col] = resulting_cols[i+j]"
   ]
  },
  {
   "cell_type": "code",
   "execution_count": 33,
   "metadata": {},
   "outputs": [
    {
     "name": "stdout",
     "output_type": "stream",
     "text": [
      "Number of missing values in 'Age' column: 0\n",
      "Number of missing values in 'Age' column: 0\n",
      "Number of missing values in 'Age' column: 0\n"
     ]
    }
   ],
   "source": [
    "# Sanity check\n",
    "for dataset in [X_train, X_test, unknownData]:\n",
    "    print(f\"Number of missing values in 'Age' column: {dataset['Age'].isna().sum()}\")"
   ]
  },
  {
   "cell_type": "code",
   "execution_count": 34,
   "metadata": {},
   "outputs": [
    {
     "name": "stdout",
     "output_type": "stream",
     "text": [
      "0\n",
      "0\n",
      "0\n"
     ]
    }
   ],
   "source": [
    "## Imputing the missing values of the 'Fare' column:\n",
    "num_imputer = SimpleImputer(missing_values=np.nan, strategy='median')\n",
    "X_train.loc[:, 'Fare'] = num_imputer.fit_transform(np.array(X_train['Fare']).reshape(-1,1))\n",
    "X_test.loc[:, 'Fare'] = num_imputer.transform(np.array(X_test['Fare']).reshape(-1,1))\n",
    "unknownData.loc[:, 'Fare'] = num_imputer.transform(np.array(unknownData['Fare']).reshape(-1,1))\n",
    "\n",
    "# Sanity check - passed\n",
    "for dataset in [X_train, X_test, unknownData]:\n",
    "    print(dataset['Fare'].isna().sum())"
   ]
  },
  {
   "cell_type": "code",
   "execution_count": 35,
   "metadata": {},
   "outputs": [
    {
     "name": "stdout",
     "output_type": "stream",
     "text": [
      "0\n",
      "0\n",
      "0\n"
     ]
    }
   ],
   "source": [
    "## Imputing the missing values of the 'Embarked' column:\n",
    "cat_imputer = SimpleImputer(missing_values=np.nan, strategy='most_frequent')\n",
    "X_train.loc[:,'Embarked'] = cat_imputer.fit_transform(np.array(X_train['Embarked']).reshape(-1,1))\n",
    "X_test.loc[:,'Embarked'] = cat_imputer.transform(np.array(X_test['Embarked']).reshape(-1,1))\n",
    "unknownData.loc[:,'Embarked'] = cat_imputer.transform(np.array(unknownData['Embarked']).reshape(-1,1))\n",
    "\n",
    "# Sanity check - passed\n",
    "for dataset in [X_train, X_test, unknownData]:\n",
    "    print(dataset['Embarked'].isna().sum())"
   ]
  },
  {
   "cell_type": "markdown",
   "metadata": {},
   "source": [
    "### Convert the categorical features with One-Hot-Encoding (OHE) \n",
    "This is necessary since all sklearn's ML models need to be trained on numerical data. We implement the OHE approach so as to make sure that the resulting encoded categorical variables are all of binary nature, so that they are considered by the algorithm as contributing the same to the learning process., and that there is no hierarchy among the labels/values each of them can take. \n",
    "\n",
    "Categorical columns to map to numerical values:\n",
    "- 'Sex' (binary, could as well just do '.map')\n",
    "- 'Embarked' (same)\n",
    "- 'Title' -> multiple (>2) values, use get_dummies"
   ]
  },
  {
   "cell_type": "code",
   "execution_count": 36,
   "metadata": {},
   "outputs": [
    {
     "data": {
      "text/html": [
       "<div>\n",
       "<style scoped>\n",
       "    .dataframe tbody tr th:only-of-type {\n",
       "        vertical-align: middle;\n",
       "    }\n",
       "\n",
       "    .dataframe tbody tr th {\n",
       "        vertical-align: top;\n",
       "    }\n",
       "\n",
       "    .dataframe thead th {\n",
       "        text-align: right;\n",
       "    }\n",
       "</style>\n",
       "<table border=\"1\" class=\"dataframe\">\n",
       "  <thead>\n",
       "    <tr style=\"text-align: right;\">\n",
       "      <th></th>\n",
       "      <th>Pclass</th>\n",
       "      <th>Age</th>\n",
       "      <th>SibSp</th>\n",
       "      <th>Parch</th>\n",
       "      <th>Fare</th>\n",
       "      <th>Deck</th>\n",
       "      <th>FamilySize</th>\n",
       "      <th>IsAlone</th>\n",
       "      <th>Sex_female</th>\n",
       "      <th>Sex_male</th>\n",
       "      <th>Embarked_C</th>\n",
       "      <th>Embarked_Q</th>\n",
       "      <th>Embarked_S</th>\n",
       "      <th>Title_Master</th>\n",
       "      <th>Title_Miss</th>\n",
       "      <th>Title_Mr</th>\n",
       "      <th>Title_Mrs</th>\n",
       "      <th>Title_Other</th>\n",
       "    </tr>\n",
       "    <tr>\n",
       "      <th>PassengerId</th>\n",
       "      <th></th>\n",
       "      <th></th>\n",
       "      <th></th>\n",
       "      <th></th>\n",
       "      <th></th>\n",
       "      <th></th>\n",
       "      <th></th>\n",
       "      <th></th>\n",
       "      <th></th>\n",
       "      <th></th>\n",
       "      <th></th>\n",
       "      <th></th>\n",
       "      <th></th>\n",
       "      <th></th>\n",
       "      <th></th>\n",
       "      <th></th>\n",
       "      <th></th>\n",
       "      <th></th>\n",
       "    </tr>\n",
       "  </thead>\n",
       "  <tbody>\n",
       "    <tr>\n",
       "      <th>473</th>\n",
       "      <td>2</td>\n",
       "      <td>33.0</td>\n",
       "      <td>1</td>\n",
       "      <td>2</td>\n",
       "      <td>27.75</td>\n",
       "      <td>0</td>\n",
       "      <td>4</td>\n",
       "      <td>0</td>\n",
       "      <td>1</td>\n",
       "      <td>0</td>\n",
       "      <td>0</td>\n",
       "      <td>0</td>\n",
       "      <td>1</td>\n",
       "      <td>0</td>\n",
       "      <td>0</td>\n",
       "      <td>0</td>\n",
       "      <td>1</td>\n",
       "      <td>0</td>\n",
       "    </tr>\n",
       "    <tr>\n",
       "      <th>598</th>\n",
       "      <td>3</td>\n",
       "      <td>49.0</td>\n",
       "      <td>0</td>\n",
       "      <td>0</td>\n",
       "      <td>0.00</td>\n",
       "      <td>0</td>\n",
       "      <td>1</td>\n",
       "      <td>1</td>\n",
       "      <td>0</td>\n",
       "      <td>1</td>\n",
       "      <td>0</td>\n",
       "      <td>0</td>\n",
       "      <td>1</td>\n",
       "      <td>0</td>\n",
       "      <td>0</td>\n",
       "      <td>1</td>\n",
       "      <td>0</td>\n",
       "      <td>0</td>\n",
       "    </tr>\n",
       "    <tr>\n",
       "      <th>844</th>\n",
       "      <td>3</td>\n",
       "      <td>34.5</td>\n",
       "      <td>0</td>\n",
       "      <td>0</td>\n",
       "      <td>6.44</td>\n",
       "      <td>0</td>\n",
       "      <td>1</td>\n",
       "      <td>1</td>\n",
       "      <td>0</td>\n",
       "      <td>1</td>\n",
       "      <td>1</td>\n",
       "      <td>0</td>\n",
       "      <td>0</td>\n",
       "      <td>0</td>\n",
       "      <td>0</td>\n",
       "      <td>1</td>\n",
       "      <td>0</td>\n",
       "      <td>0</td>\n",
       "    </tr>\n",
       "    <tr>\n",
       "      <th>113</th>\n",
       "      <td>3</td>\n",
       "      <td>22.0</td>\n",
       "      <td>0</td>\n",
       "      <td>0</td>\n",
       "      <td>8.05</td>\n",
       "      <td>0</td>\n",
       "      <td>1</td>\n",
       "      <td>1</td>\n",
       "      <td>0</td>\n",
       "      <td>1</td>\n",
       "      <td>0</td>\n",
       "      <td>0</td>\n",
       "      <td>1</td>\n",
       "      <td>0</td>\n",
       "      <td>0</td>\n",
       "      <td>1</td>\n",
       "      <td>0</td>\n",
       "      <td>0</td>\n",
       "    </tr>\n",
       "    <tr>\n",
       "      <th>870</th>\n",
       "      <td>3</td>\n",
       "      <td>4.0</td>\n",
       "      <td>1</td>\n",
       "      <td>1</td>\n",
       "      <td>11.13</td>\n",
       "      <td>0</td>\n",
       "      <td>3</td>\n",
       "      <td>0</td>\n",
       "      <td>0</td>\n",
       "      <td>1</td>\n",
       "      <td>0</td>\n",
       "      <td>0</td>\n",
       "      <td>1</td>\n",
       "      <td>1</td>\n",
       "      <td>0</td>\n",
       "      <td>0</td>\n",
       "      <td>0</td>\n",
       "      <td>0</td>\n",
       "    </tr>\n",
       "  </tbody>\n",
       "</table>\n",
       "</div>"
      ],
      "text/plain": [
       "             Pclass   Age  SibSp  Parch   Fare  Deck  FamilySize  IsAlone  \\\n",
       "PassengerId                                                                 \n",
       "473               2  33.0      1      2  27.75     0           4        0   \n",
       "598               3  49.0      0      0   0.00     0           1        1   \n",
       "844               3  34.5      0      0   6.44     0           1        1   \n",
       "113               3  22.0      0      0   8.05     0           1        1   \n",
       "870               3   4.0      1      1  11.13     0           3        0   \n",
       "\n",
       "             Sex_female  Sex_male  Embarked_C  Embarked_Q  Embarked_S  \\\n",
       "PassengerId                                                             \n",
       "473                   1         0           0           0           1   \n",
       "598                   0         1           0           0           1   \n",
       "844                   0         1           1           0           0   \n",
       "113                   0         1           0           0           1   \n",
       "870                   0         1           0           0           1   \n",
       "\n",
       "             Title_Master  Title_Miss  Title_Mr  Title_Mrs  Title_Other  \n",
       "PassengerId                                                              \n",
       "473                     0           0         0          1            0  \n",
       "598                     0           0         1          0            0  \n",
       "844                     0           0         1          0            0  \n",
       "113                     0           0         1          0            0  \n",
       "870                     1           0         0          0            0  "
      ]
     },
     "execution_count": 36,
     "metadata": {},
     "output_type": "execute_result"
    }
   ],
   "source": [
    "# Apply one-hot-encoding (OHE) to the categorical features of X_train using pd.get_dummies: \n",
    "X_train_ohe = X_train[['Sex', 'Embarked', 'Title']]\n",
    "X_train_ohe =pd.get_dummies(X_train_ohe, dtype='int8')\n",
    "X_train.drop(['Sex', 'Embarked', 'Title'], axis=1, inplace=True)\n",
    "X_train = X_train.join(X_train_ohe)\n",
    "X_train.head()"
   ]
  },
  {
   "cell_type": "code",
   "execution_count": 37,
   "metadata": {},
   "outputs": [
    {
     "data": {
      "text/html": [
       "<div>\n",
       "<style scoped>\n",
       "    .dataframe tbody tr th:only-of-type {\n",
       "        vertical-align: middle;\n",
       "    }\n",
       "\n",
       "    .dataframe tbody tr th {\n",
       "        vertical-align: top;\n",
       "    }\n",
       "\n",
       "    .dataframe thead th {\n",
       "        text-align: right;\n",
       "    }\n",
       "</style>\n",
       "<table border=\"1\" class=\"dataframe\">\n",
       "  <thead>\n",
       "    <tr style=\"text-align: right;\">\n",
       "      <th></th>\n",
       "      <th>Pclass</th>\n",
       "      <th>Age</th>\n",
       "      <th>SibSp</th>\n",
       "      <th>Parch</th>\n",
       "      <th>Fare</th>\n",
       "      <th>Deck</th>\n",
       "      <th>FamilySize</th>\n",
       "      <th>IsAlone</th>\n",
       "      <th>Sex_female</th>\n",
       "      <th>Sex_male</th>\n",
       "      <th>Embarked_C</th>\n",
       "      <th>Embarked_Q</th>\n",
       "      <th>Embarked_S</th>\n",
       "      <th>Title_Master</th>\n",
       "      <th>Title_Miss</th>\n",
       "      <th>Title_Mr</th>\n",
       "      <th>Title_Mrs</th>\n",
       "      <th>Title_Other</th>\n",
       "    </tr>\n",
       "    <tr>\n",
       "      <th>PassengerId</th>\n",
       "      <th></th>\n",
       "      <th></th>\n",
       "      <th></th>\n",
       "      <th></th>\n",
       "      <th></th>\n",
       "      <th></th>\n",
       "      <th></th>\n",
       "      <th></th>\n",
       "      <th></th>\n",
       "      <th></th>\n",
       "      <th></th>\n",
       "      <th></th>\n",
       "      <th></th>\n",
       "      <th></th>\n",
       "      <th></th>\n",
       "      <th></th>\n",
       "      <th></th>\n",
       "      <th></th>\n",
       "    </tr>\n",
       "  </thead>\n",
       "  <tbody>\n",
       "    <tr>\n",
       "      <th>434</th>\n",
       "      <td>3</td>\n",
       "      <td>29.0</td>\n",
       "      <td>0</td>\n",
       "      <td>0</td>\n",
       "      <td>7.12</td>\n",
       "      <td>0</td>\n",
       "      <td>1</td>\n",
       "      <td>1</td>\n",
       "      <td>0</td>\n",
       "      <td>1</td>\n",
       "      <td>0</td>\n",
       "      <td>0</td>\n",
       "      <td>1</td>\n",
       "      <td>0</td>\n",
       "      <td>0</td>\n",
       "      <td>1</td>\n",
       "      <td>0</td>\n",
       "      <td>0</td>\n",
       "    </tr>\n",
       "    <tr>\n",
       "      <th>222</th>\n",
       "      <td>2</td>\n",
       "      <td>59.0</td>\n",
       "      <td>0</td>\n",
       "      <td>0</td>\n",
       "      <td>13.00</td>\n",
       "      <td>0</td>\n",
       "      <td>1</td>\n",
       "      <td>1</td>\n",
       "      <td>0</td>\n",
       "      <td>1</td>\n",
       "      <td>0</td>\n",
       "      <td>0</td>\n",
       "      <td>1</td>\n",
       "      <td>0</td>\n",
       "      <td>0</td>\n",
       "      <td>1</td>\n",
       "      <td>0</td>\n",
       "      <td>0</td>\n",
       "    </tr>\n",
       "    <tr>\n",
       "      <th>218</th>\n",
       "      <td>2</td>\n",
       "      <td>41.0</td>\n",
       "      <td>1</td>\n",
       "      <td>0</td>\n",
       "      <td>27.00</td>\n",
       "      <td>0</td>\n",
       "      <td>2</td>\n",
       "      <td>0</td>\n",
       "      <td>0</td>\n",
       "      <td>1</td>\n",
       "      <td>0</td>\n",
       "      <td>0</td>\n",
       "      <td>1</td>\n",
       "      <td>0</td>\n",
       "      <td>0</td>\n",
       "      <td>1</td>\n",
       "      <td>0</td>\n",
       "      <td>0</td>\n",
       "    </tr>\n",
       "    <tr>\n",
       "      <th>377</th>\n",
       "      <td>3</td>\n",
       "      <td>2.0</td>\n",
       "      <td>0</td>\n",
       "      <td>0</td>\n",
       "      <td>7.25</td>\n",
       "      <td>0</td>\n",
       "      <td>1</td>\n",
       "      <td>1</td>\n",
       "      <td>1</td>\n",
       "      <td>0</td>\n",
       "      <td>0</td>\n",
       "      <td>0</td>\n",
       "      <td>1</td>\n",
       "      <td>0</td>\n",
       "      <td>1</td>\n",
       "      <td>0</td>\n",
       "      <td>0</td>\n",
       "      <td>0</td>\n",
       "    </tr>\n",
       "    <tr>\n",
       "      <th>448</th>\n",
       "      <td>1</td>\n",
       "      <td>16.0</td>\n",
       "      <td>0</td>\n",
       "      <td>0</td>\n",
       "      <td>26.55</td>\n",
       "      <td>0</td>\n",
       "      <td>1</td>\n",
       "      <td>1</td>\n",
       "      <td>0</td>\n",
       "      <td>1</td>\n",
       "      <td>0</td>\n",
       "      <td>0</td>\n",
       "      <td>1</td>\n",
       "      <td>0</td>\n",
       "      <td>0</td>\n",
       "      <td>1</td>\n",
       "      <td>0</td>\n",
       "      <td>0</td>\n",
       "    </tr>\n",
       "  </tbody>\n",
       "</table>\n",
       "</div>"
      ],
      "text/plain": [
       "             Pclass   Age  SibSp  Parch   Fare  Deck  FamilySize  IsAlone  \\\n",
       "PassengerId                                                                 \n",
       "434               3  29.0      0      0   7.12     0           1        1   \n",
       "222               2  59.0      0      0  13.00     0           1        1   \n",
       "218               2  41.0      1      0  27.00     0           2        0   \n",
       "377               3   2.0      0      0   7.25     0           1        1   \n",
       "448               1  16.0      0      0  26.55     0           1        1   \n",
       "\n",
       "             Sex_female  Sex_male  Embarked_C  Embarked_Q  Embarked_S  \\\n",
       "PassengerId                                                             \n",
       "434                   0         1           0           0           1   \n",
       "222                   0         1           0           0           1   \n",
       "218                   0         1           0           0           1   \n",
       "377                   1         0           0           0           1   \n",
       "448                   0         1           0           0           1   \n",
       "\n",
       "             Title_Master  Title_Miss  Title_Mr  Title_Mrs  Title_Other  \n",
       "PassengerId                                                              \n",
       "434                     0           0         1          0            0  \n",
       "222                     0           0         1          0            0  \n",
       "218                     0           0         1          0            0  \n",
       "377                     0           1         0          0            0  \n",
       "448                     0           0         1          0            0  "
      ]
     },
     "execution_count": 37,
     "metadata": {},
     "output_type": "execute_result"
    }
   ],
   "source": [
    "# Similarly, apply one-hot-encoding (OHE) to the categorical features of *X_test* using pd.get_dummies: \n",
    "X_test_ohe = X_test[['Sex', 'Embarked', 'Title']]\n",
    "X_test_ohe =pd.get_dummies(X_test_ohe, dtype='int8')\n",
    "X_test.drop(['Sex', 'Embarked', 'Title'], axis=1, inplace=True)\n",
    "X_test = X_test.join(X_test_ohe)\n",
    "X_test.head()\n"
   ]
  },
  {
   "cell_type": "code",
   "execution_count": 38,
   "metadata": {},
   "outputs": [
    {
     "data": {
      "text/html": [
       "<div>\n",
       "<style scoped>\n",
       "    .dataframe tbody tr th:only-of-type {\n",
       "        vertical-align: middle;\n",
       "    }\n",
       "\n",
       "    .dataframe tbody tr th {\n",
       "        vertical-align: top;\n",
       "    }\n",
       "\n",
       "    .dataframe thead th {\n",
       "        text-align: right;\n",
       "    }\n",
       "</style>\n",
       "<table border=\"1\" class=\"dataframe\">\n",
       "  <thead>\n",
       "    <tr style=\"text-align: right;\">\n",
       "      <th></th>\n",
       "      <th>Pclass</th>\n",
       "      <th>Age</th>\n",
       "      <th>SibSp</th>\n",
       "      <th>Parch</th>\n",
       "      <th>Fare</th>\n",
       "      <th>Deck</th>\n",
       "      <th>FamilySize</th>\n",
       "      <th>IsAlone</th>\n",
       "      <th>Sex_female</th>\n",
       "      <th>Sex_male</th>\n",
       "      <th>Embarked_C</th>\n",
       "      <th>Embarked_Q</th>\n",
       "      <th>Embarked_S</th>\n",
       "      <th>Title_Master</th>\n",
       "      <th>Title_Miss</th>\n",
       "      <th>Title_Mr</th>\n",
       "      <th>Title_Mrs</th>\n",
       "      <th>Title_Other</th>\n",
       "    </tr>\n",
       "    <tr>\n",
       "      <th>PassengerId</th>\n",
       "      <th></th>\n",
       "      <th></th>\n",
       "      <th></th>\n",
       "      <th></th>\n",
       "      <th></th>\n",
       "      <th></th>\n",
       "      <th></th>\n",
       "      <th></th>\n",
       "      <th></th>\n",
       "      <th></th>\n",
       "      <th></th>\n",
       "      <th></th>\n",
       "      <th></th>\n",
       "      <th></th>\n",
       "      <th></th>\n",
       "      <th></th>\n",
       "      <th></th>\n",
       "      <th></th>\n",
       "    </tr>\n",
       "  </thead>\n",
       "  <tbody>\n",
       "    <tr>\n",
       "      <th>892</th>\n",
       "      <td>3</td>\n",
       "      <td>34.5</td>\n",
       "      <td>0</td>\n",
       "      <td>0</td>\n",
       "      <td>7.83</td>\n",
       "      <td>0</td>\n",
       "      <td>1</td>\n",
       "      <td>1</td>\n",
       "      <td>0</td>\n",
       "      <td>1</td>\n",
       "      <td>0</td>\n",
       "      <td>1</td>\n",
       "      <td>0</td>\n",
       "      <td>0</td>\n",
       "      <td>0</td>\n",
       "      <td>1</td>\n",
       "      <td>0</td>\n",
       "      <td>0</td>\n",
       "    </tr>\n",
       "    <tr>\n",
       "      <th>893</th>\n",
       "      <td>3</td>\n",
       "      <td>47.0</td>\n",
       "      <td>1</td>\n",
       "      <td>0</td>\n",
       "      <td>7.00</td>\n",
       "      <td>0</td>\n",
       "      <td>2</td>\n",
       "      <td>0</td>\n",
       "      <td>1</td>\n",
       "      <td>0</td>\n",
       "      <td>0</td>\n",
       "      <td>0</td>\n",
       "      <td>1</td>\n",
       "      <td>0</td>\n",
       "      <td>0</td>\n",
       "      <td>0</td>\n",
       "      <td>1</td>\n",
       "      <td>0</td>\n",
       "    </tr>\n",
       "    <tr>\n",
       "      <th>894</th>\n",
       "      <td>2</td>\n",
       "      <td>62.0</td>\n",
       "      <td>0</td>\n",
       "      <td>0</td>\n",
       "      <td>9.69</td>\n",
       "      <td>0</td>\n",
       "      <td>1</td>\n",
       "      <td>1</td>\n",
       "      <td>0</td>\n",
       "      <td>1</td>\n",
       "      <td>0</td>\n",
       "      <td>1</td>\n",
       "      <td>0</td>\n",
       "      <td>0</td>\n",
       "      <td>0</td>\n",
       "      <td>1</td>\n",
       "      <td>0</td>\n",
       "      <td>0</td>\n",
       "    </tr>\n",
       "    <tr>\n",
       "      <th>895</th>\n",
       "      <td>3</td>\n",
       "      <td>27.0</td>\n",
       "      <td>0</td>\n",
       "      <td>0</td>\n",
       "      <td>8.66</td>\n",
       "      <td>0</td>\n",
       "      <td>1</td>\n",
       "      <td>1</td>\n",
       "      <td>0</td>\n",
       "      <td>1</td>\n",
       "      <td>0</td>\n",
       "      <td>0</td>\n",
       "      <td>1</td>\n",
       "      <td>0</td>\n",
       "      <td>0</td>\n",
       "      <td>1</td>\n",
       "      <td>0</td>\n",
       "      <td>0</td>\n",
       "    </tr>\n",
       "    <tr>\n",
       "      <th>896</th>\n",
       "      <td>3</td>\n",
       "      <td>22.0</td>\n",
       "      <td>1</td>\n",
       "      <td>1</td>\n",
       "      <td>12.29</td>\n",
       "      <td>0</td>\n",
       "      <td>3</td>\n",
       "      <td>0</td>\n",
       "      <td>1</td>\n",
       "      <td>0</td>\n",
       "      <td>0</td>\n",
       "      <td>0</td>\n",
       "      <td>1</td>\n",
       "      <td>0</td>\n",
       "      <td>0</td>\n",
       "      <td>0</td>\n",
       "      <td>1</td>\n",
       "      <td>0</td>\n",
       "    </tr>\n",
       "  </tbody>\n",
       "</table>\n",
       "</div>"
      ],
      "text/plain": [
       "             Pclass   Age  SibSp  Parch   Fare  Deck  FamilySize  IsAlone  \\\n",
       "PassengerId                                                                 \n",
       "892               3  34.5      0      0   7.83     0           1        1   \n",
       "893               3  47.0      1      0   7.00     0           2        0   \n",
       "894               2  62.0      0      0   9.69     0           1        1   \n",
       "895               3  27.0      0      0   8.66     0           1        1   \n",
       "896               3  22.0      1      1  12.29     0           3        0   \n",
       "\n",
       "             Sex_female  Sex_male  Embarked_C  Embarked_Q  Embarked_S  \\\n",
       "PassengerId                                                             \n",
       "892                   0         1           0           1           0   \n",
       "893                   1         0           0           0           1   \n",
       "894                   0         1           0           1           0   \n",
       "895                   0         1           0           0           1   \n",
       "896                   1         0           0           0           1   \n",
       "\n",
       "             Title_Master  Title_Miss  Title_Mr  Title_Mrs  Title_Other  \n",
       "PassengerId                                                              \n",
       "892                     0           0         1          0            0  \n",
       "893                     0           0         0          1            0  \n",
       "894                     0           0         1          0            0  \n",
       "895                     0           0         1          0            0  \n",
       "896                     0           0         0          1            0  "
      ]
     },
     "execution_count": 38,
     "metadata": {},
     "output_type": "execute_result"
    }
   ],
   "source": [
    "# Similarly, apply one-hot-encoding (OHE) to the categorical features of *unknownData* using pd.get_dummies: \n",
    "unknownData_ohe = unknownData[['Sex', 'Embarked', 'Title']]\n",
    "unknownData_ohe =pd.get_dummies(unknownData_ohe, dtype='int8')\n",
    "unknownData.drop(['Sex', 'Embarked', 'Title'], axis=1, inplace=True)\n",
    "unknownData = unknownData.join(unknownData_ohe)\n",
    "unknownData.head()"
   ]
  },
  {
   "cell_type": "markdown",
   "metadata": {},
   "source": [
    "\n",
    "#### Check for correlations in the data - Pearson Correlation Heatmap\n",
    "This will help us understand the need fo dimensionality reduction techniques. \n",
    "Here we do not have multiple categorical (and encoded) columns to fear our training matrix being rather sparse, which would also justify dimensionality reduction. Instead, we only inspect the existence of potentially high correlation between numerous variables."
   ]
  },
  {
   "cell_type": "code",
   "execution_count": 39,
   "metadata": {},
   "outputs": [
    {
     "data": {
      "image/png": "[encoded data removed]",
      "text/plain": [
       "<Figure size 1600x1000 with 2 Axes>"
      ]
     },
     "metadata": {},
     "output_type": "display_data"
    }
   ],
   "source": [
    "# Calculate the correlation matrix of X_train DataFrame using the .corr() function and \n",
    "# save it in a variable called 'corr_matrix'. Then pass the corr_matrix to the sns.heatmap() function for plotting. \n",
    "# Optional: you can use f, ax = plt.subplots(figsize=(12, 8))  \n",
    "# Optional sns.heatmap arguments : annot=True,  annot_kws={'size': 8} and cmap=\"Spectral_r\" \n",
    "\n",
    "########## FILL IN YOUR SOLUTION HERE ########## \n",
    "corr_matrix =X_train.corr()\n",
    "fig, ax = plt.subplots(figsize=(16,10))\n",
    "ax = sns.heatmap(data=corr_matrix, annot=True, \n",
    "            annot_kws={'size': 8}, \n",
    "            cmap=\"Spectral_r\")\n",
    "plt.show()\n"
   ]
  },
  {
   "cell_type": "markdown",
   "metadata": {},
   "source": [
    "We see that there is significant correlation between multiple pairs of features; \n",
    "For example, the values of 'FamilySize' and 'IsAlone' are perfectly negatively correlated - having a family size larger than one means that you are not alone \n",
    "Also, the 'Pclass' and 'Deck' are negatively correlated because the higher the ticket class, the upper on the ship's deck corresponding cabins tended to be - it is not a perfectly positive correlation (i.e. it is <1) because it could happen that a deck's cabins could be split among various ticket classes.\n",
    "\n",
    "High correlation among features results in high dimensionality in the features set. This leads in the existence of a lot of noise, which hinders the process of uncovering the signal, or the information necessary in modelling the associations between different feature values and class labels. "
   ]
  },
  {
   "cell_type": "markdown",
   "metadata": {},
   "source": [
    "### Check the distributions\n",
    "\n",
    "#### What are the ranges of the various features? "
   ]
  },
  {
   "cell_type": "code",
   "execution_count": 40,
   "metadata": {},
   "outputs": [
    {
     "data": {
      "text/html": [
       "<div>\n",
       "<style scoped>\n",
       "    .dataframe tbody tr th:only-of-type {\n",
       "        vertical-align: middle;\n",
       "    }\n",
       "\n",
       "    .dataframe tbody tr th {\n",
       "        vertical-align: top;\n",
       "    }\n",
       "\n",
       "    .dataframe thead th {\n",
       "        text-align: right;\n",
       "    }\n",
       "</style>\n",
       "<table border=\"1\" class=\"dataframe\">\n",
       "  <thead>\n",
       "    <tr style=\"text-align: right;\">\n",
       "      <th></th>\n",
       "      <th>Pclass</th>\n",
       "      <th>Age</th>\n",
       "      <th>SibSp</th>\n",
       "      <th>Parch</th>\n",
       "      <th>Fare</th>\n",
       "      <th>Deck</th>\n",
       "      <th>FamilySize</th>\n",
       "      <th>IsAlone</th>\n",
       "      <th>Sex_female</th>\n",
       "      <th>Sex_male</th>\n",
       "      <th>Embarked_C</th>\n",
       "      <th>Embarked_Q</th>\n",
       "      <th>Embarked_S</th>\n",
       "      <th>Title_Master</th>\n",
       "      <th>Title_Miss</th>\n",
       "      <th>Title_Mr</th>\n",
       "      <th>Title_Mrs</th>\n",
       "      <th>Title_Other</th>\n",
       "    </tr>\n",
       "  </thead>\n",
       "  <tbody>\n",
       "    <tr>\n",
       "      <th>count</th>\n",
       "      <td>623.00</td>\n",
       "      <td>623.00</td>\n",
       "      <td>623.00</td>\n",
       "      <td>623.00</td>\n",
       "      <td>623.00</td>\n",
       "      <td>623.00</td>\n",
       "      <td>623.00</td>\n",
       "      <td>623.00</td>\n",
       "      <td>623.00</td>\n",
       "      <td>623.00</td>\n",
       "      <td>623.00</td>\n",
       "      <td>623.00</td>\n",
       "      <td>623.00</td>\n",
       "      <td>623.00</td>\n",
       "      <td>623.0</td>\n",
       "      <td>623.00</td>\n",
       "      <td>623.00</td>\n",
       "      <td>623.00</td>\n",
       "    </tr>\n",
       "    <tr>\n",
       "      <th>mean</th>\n",
       "      <td>2.31</td>\n",
       "      <td>29.00</td>\n",
       "      <td>0.54</td>\n",
       "      <td>0.39</td>\n",
       "      <td>31.72</td>\n",
       "      <td>0.84</td>\n",
       "      <td>1.93</td>\n",
       "      <td>0.59</td>\n",
       "      <td>0.35</td>\n",
       "      <td>0.65</td>\n",
       "      <td>0.19</td>\n",
       "      <td>0.08</td>\n",
       "      <td>0.73</td>\n",
       "      <td>0.05</td>\n",
       "      <td>0.2</td>\n",
       "      <td>0.58</td>\n",
       "      <td>0.15</td>\n",
       "      <td>0.02</td>\n",
       "    </tr>\n",
       "    <tr>\n",
       "      <th>std</th>\n",
       "      <td>0.84</td>\n",
       "      <td>14.26</td>\n",
       "      <td>1.13</td>\n",
       "      <td>0.80</td>\n",
       "      <td>46.92</td>\n",
       "      <td>1.64</td>\n",
       "      <td>1.62</td>\n",
       "      <td>0.49</td>\n",
       "      <td>0.48</td>\n",
       "      <td>0.48</td>\n",
       "      <td>0.39</td>\n",
       "      <td>0.27</td>\n",
       "      <td>0.44</td>\n",
       "      <td>0.22</td>\n",
       "      <td>0.4</td>\n",
       "      <td>0.49</td>\n",
       "      <td>0.35</td>\n",
       "      <td>0.15</td>\n",
       "    </tr>\n",
       "    <tr>\n",
       "      <th>min</th>\n",
       "      <td>1.00</td>\n",
       "      <td>0.42</td>\n",
       "      <td>0.00</td>\n",
       "      <td>0.00</td>\n",
       "      <td>0.00</td>\n",
       "      <td>0.00</td>\n",
       "      <td>1.00</td>\n",
       "      <td>0.00</td>\n",
       "      <td>0.00</td>\n",
       "      <td>0.00</td>\n",
       "      <td>0.00</td>\n",
       "      <td>0.00</td>\n",
       "      <td>0.00</td>\n",
       "      <td>0.00</td>\n",
       "      <td>0.0</td>\n",
       "      <td>0.00</td>\n",
       "      <td>0.00</td>\n",
       "      <td>0.00</td>\n",
       "    </tr>\n",
       "    <tr>\n",
       "      <th>25%</th>\n",
       "      <td>2.00</td>\n",
       "      <td>20.00</td>\n",
       "      <td>0.00</td>\n",
       "      <td>0.00</td>\n",
       "      <td>7.92</td>\n",
       "      <td>0.00</td>\n",
       "      <td>1.00</td>\n",
       "      <td>0.00</td>\n",
       "      <td>0.00</td>\n",
       "      <td>0.00</td>\n",
       "      <td>0.00</td>\n",
       "      <td>0.00</td>\n",
       "      <td>0.00</td>\n",
       "      <td>0.00</td>\n",
       "      <td>0.0</td>\n",
       "      <td>0.00</td>\n",
       "      <td>0.00</td>\n",
       "      <td>0.00</td>\n",
       "    </tr>\n",
       "    <tr>\n",
       "      <th>50%</th>\n",
       "      <td>3.00</td>\n",
       "      <td>28.50</td>\n",
       "      <td>0.00</td>\n",
       "      <td>0.00</td>\n",
       "      <td>14.46</td>\n",
       "      <td>0.00</td>\n",
       "      <td>1.00</td>\n",
       "      <td>1.00</td>\n",
       "      <td>0.00</td>\n",
       "      <td>1.00</td>\n",
       "      <td>0.00</td>\n",
       "      <td>0.00</td>\n",
       "      <td>1.00</td>\n",
       "      <td>0.00</td>\n",
       "      <td>0.0</td>\n",
       "      <td>1.00</td>\n",
       "      <td>0.00</td>\n",
       "      <td>0.00</td>\n",
       "    </tr>\n",
       "    <tr>\n",
       "      <th>75%</th>\n",
       "      <td>3.00</td>\n",
       "      <td>37.50</td>\n",
       "      <td>1.00</td>\n",
       "      <td>0.00</td>\n",
       "      <td>31.27</td>\n",
       "      <td>0.00</td>\n",
       "      <td>2.00</td>\n",
       "      <td>1.00</td>\n",
       "      <td>1.00</td>\n",
       "      <td>1.00</td>\n",
       "      <td>0.00</td>\n",
       "      <td>0.00</td>\n",
       "      <td>1.00</td>\n",
       "      <td>0.00</td>\n",
       "      <td>0.0</td>\n",
       "      <td>1.00</td>\n",
       "      <td>0.00</td>\n",
       "      <td>0.00</td>\n",
       "    </tr>\n",
       "    <tr>\n",
       "      <th>max</th>\n",
       "      <td>3.00</td>\n",
       "      <td>74.00</td>\n",
       "      <td>8.00</td>\n",
       "      <td>6.00</td>\n",
       "      <td>512.33</td>\n",
       "      <td>7.00</td>\n",
       "      <td>11.00</td>\n",
       "      <td>1.00</td>\n",
       "      <td>1.00</td>\n",
       "      <td>1.00</td>\n",
       "      <td>1.00</td>\n",
       "      <td>1.00</td>\n",
       "      <td>1.00</td>\n",
       "      <td>1.00</td>\n",
       "      <td>1.0</td>\n",
       "      <td>1.00</td>\n",
       "      <td>1.00</td>\n",
       "      <td>1.00</td>\n",
       "    </tr>\n",
       "  </tbody>\n",
       "</table>\n",
       "</div>"
      ],
      "text/plain": [
       "       Pclass     Age   SibSp   Parch    Fare    Deck  FamilySize  IsAlone  \\\n",
       "count  623.00  623.00  623.00  623.00  623.00  623.00      623.00   623.00   \n",
       "mean     2.31   29.00    0.54    0.39   31.72    0.84        1.93     0.59   \n",
       "std      0.84   14.26    1.13    0.80   46.92    1.64        1.62     0.49   \n",
       "min      1.00    0.42    0.00    0.00    0.00    0.00        1.00     0.00   \n",
       "25%      2.00   20.00    0.00    0.00    7.92    0.00        1.00     0.00   \n",
       "50%      3.00   28.50    0.00    0.00   14.46    0.00        1.00     1.00   \n",
       "75%      3.00   37.50    1.00    0.00   31.27    0.00        2.00     1.00   \n",
       "max      3.00   74.00    8.00    6.00  512.33    7.00       11.00     1.00   \n",
       "\n",
       "       Sex_female  Sex_male  Embarked_C  Embarked_Q  Embarked_S  Title_Master  \\\n",
       "count      623.00    623.00      623.00      623.00      623.00        623.00   \n",
       "mean         0.35      0.65        0.19        0.08        0.73          0.05   \n",
       "std          0.48      0.48        0.39        0.27        0.44          0.22   \n",
       "min          0.00      0.00        0.00        0.00        0.00          0.00   \n",
       "25%          0.00      0.00        0.00        0.00        0.00          0.00   \n",
       "50%          0.00      1.00        0.00        0.00        1.00          0.00   \n",
       "75%          1.00      1.00        0.00        0.00        1.00          0.00   \n",
       "max          1.00      1.00        1.00        1.00        1.00          1.00   \n",
       "\n",
       "       Title_Miss  Title_Mr  Title_Mrs  Title_Other  \n",
       "count       623.0    623.00     623.00       623.00  \n",
       "mean          0.2      0.58       0.15         0.02  \n",
       "std           0.4      0.49       0.35         0.15  \n",
       "min           0.0      0.00       0.00         0.00  \n",
       "25%           0.0      0.00       0.00         0.00  \n",
       "50%           0.0      1.00       0.00         0.00  \n",
       "75%           0.0      1.00       0.00         0.00  \n",
       "max           1.0      1.00       1.00         1.00  "
      ]
     },
     "execution_count": 40,
     "metadata": {},
     "output_type": "execute_result"
    }
   ],
   "source": [
    "# Apply the .describe() function on the X_train\n",
    "X_train.describe()\n"
   ]
  },
  {
   "cell_type": "markdown",
   "metadata": {},
   "source": [
    "We see that there are significantly different ranges among the training set's features => we need to apply features scaling to make sure that each feature is considered by the models we train as contributing equally to the dependent variable's values. Otherwise, it would consider those with higher ranges are contributing more, distorting our results. "
   ]
  },
  {
   "cell_type": "code",
   "execution_count": 41,
   "metadata": {},
   "outputs": [
    {
     "data": {
      "image/png": "[encoded data removed]",
      "text/plain": [
       "<Figure size 1600x1000 with 1 Axes>"
      ]
     },
     "metadata": {},
     "output_type": "display_data"
    }
   ],
   "source": [
    "# Visualise the X_train data in a seaborn boxplot. Optional: set the plt.figure(figsize=(15,10))\n",
    "\n",
    "fig, ax = plt.subplots(figsize=(16,10))\n",
    "ax = sns.boxplot(data=X_train)\n",
    "plt.show()"
   ]
  },
  {
   "cell_type": "markdown",
   "metadata": {},
   "source": [
    "We also have multiple outliers, but we will not cater for them right now."
   ]
  },
  {
   "cell_type": "markdown",
   "metadata": {},
   "source": [
    "### Scaling\n",
    "\n",
    "I will utilize sklearn's StandardScaler class. This is even though there are outliers and our numerical variables do not seem to be normally distributed, but it is the widely accepted practice to use this scaler for KNN, SVMs and PCA. "
   ]
  },
  {
   "cell_type": "code",
   "execution_count": 42,
   "metadata": {},
   "outputs": [],
   "source": [
    "# 1. Instantiate the StandardScaler() or MinMaxScaler(). Store into a variable named \"scaler\" \n",
    "\n",
    "# 2. Fit the scaler ONLY on the X_train data - Use the scaler.fit_transform() on the X_train set \n",
    "# You will also need to convert the results of scaler.fit_transform() back to a pandas DataFrame by calling pd.DataFrame() with\n",
    "# columns=X_train.columns. Assign the result back to the variable X_train. \n",
    "\n",
    "# 3. Transform (do not fit!) the test dataset using the (fitted) scaler. Use the scaler.transform() on the X_test. \n",
    "# You will also need to convert the results of scaler.fit_transform() back to a pandas DataFrame by calling pd.DataFrame() with\n",
    "# columns=X_test.columns. Assign the result back to the variable X_test.  \n",
    "\n",
    "# 4. Transform (do not fit!) the test dataset using the (fitted) scaler. Use the scaler.transform() on the unknownData. \n",
    "# You will also need to convert the results of scaler.fit_transform() back to a pandas DataFrame by calling pd.DataFrame() with\n",
    "# columns=unknownData.columns. Assign the result back to the variable unknownData. \n",
    "scaler = StandardScaler()\n",
    "X_train = pd.DataFrame(scaler.fit_transform(X_train), columns=X_train.columns, index=X_train.index)\n",
    "X_test = pd.DataFrame(scaler.transform(X_test), columns=X_test.columns, index=X_test.index)\n",
    "unknownData = pd.DataFrame(scaler.transform(unknownData), columns=unknownData.columns, index=unknownData.index)\n"
   ]
  },
  {
   "cell_type": "code",
   "execution_count": 43,
   "metadata": {},
   "outputs": [
    {
     "data": {
      "image/png": "[encoded data removed]",
      "text/plain": [
       "<Figure size 1600x1000 with 1 Axes>"
      ]
     },
     "metadata": {},
     "output_type": "display_data"
    }
   ],
   "source": [
    "# Run once more the boxplot on the scaled X_train data\n",
    "fig, ax = plt.subplots(figsize=(16,10))\n",
    "ax = sns.boxplot(data=X_train)\n",
    "plt.show()"
   ]
  },
  {
   "cell_type": "markdown",
   "metadata": {},
   "source": [
    "This is not needed in Decision Tree and Random Forsest classification, because they do not work with distances or gradient descend. It is necessary, however, for KNN and SVM model fitting (+ logreg?). \n",
    "\n",
    "The reason we perform feature scaling is the fact that variables with bigger scales would have an excessive impact on / contribute more to the learning proecdess, so that we would get skewed/biased outcomes. \n",
    "\n",
    "Also, by applying feature scaling we also achoeve improvements in algorithm performance through the hastening of convergence to the ideal outcomes. Furthermore, numerical instabilities are prevented, by mitigating the numerical over/underflow problems that could arise due to significant scale disparities. "
   ]
  },
  {
   "cell_type": "markdown",
   "metadata": {},
   "source": [
    "***"
   ]
  },
  {
   "cell_type": "markdown",
   "metadata": {},
   "source": [
    "We perform dimensionality reduction because highly dimensional data (aka data including high correlation between features, repetitive, redundant of irrelevant informatioon) distorts the notions of distance and similarity, making uncovering the associations between features & classes much more -computationally- difficult. So we imple,ent techniques that reduce the noise & correlation, while still capturing most of the signal, i.e. the info useful for captiring the asscociations in our datraining set so that it generalizes well. The features we typically disregard are those explaining the least amount of variance in the given dataset; these are the mostly responsible for the noise in our data, bearing redundant & repetitive info also conveyed by other features (at least in part) => by ignoring them and accepting a slight drop (from 100%) in our pool of features' capability to explain the variance included in our initial data,m we can extract the signal more easily. \n",
    "\n",
    "\n",
    "### Kmeans clustering on the results of PCA \n",
    "\n",
    "**[definition and value for ML model fitting]** PCA is a linear dimensionality reduction technique that performs an orthogonal linear transformation to our possibly correlated features into uncorrelated ones. It casts the initial features into a new coordinate system, as the systems axis unit vectors. This way, it ensures zero correlation between them. As a result, we can then select a subs==set of those linearly transformed vectors, which manage to explain an adequate percentage (%) of variance in our initial data, so as to make extracting the signal & hidden dynamic -computationally- easier. \n",
    "\n",
    "It works based on distances between data samples, so scaling is necessary to prevent biased results (always happen prior to this). \n",
    "\n",
    "The obtaining of principal components happens as follows: we perform the eigen-decomposition of the covariance matrix (suppose dimensions NxN) of the SCALED features set, This gives us a set of N eigenvectors which are -by definition- orthogonal to each other and also unit vectors, and thus determine the directions (axes) of the new features space we cast our samples into. Each of those axes is linked to a specific value (eigenvalue), which represents the magnitude of each of those directions, aka the (%) variance that component manages to explain in the given features space, or the proportion of the :signal\": that this feature assists in capturing. Eg.g. the \"first axis/PC1 accounts for ...% of the variance in our features set\".\n",
    "\n",
    "It falls under the family of algorithms of \"unsupervised learning\", so it only deals with unlabeled data (aka the features set), NOT taking into consideration the class variable's column ('y') in ANY case. \n",
    "\n",
    "**[value for visualizations]** By using just the 2 first principal components, we can create a scatterplot with a 'class' hue that (possibly) incorporates a good percentage of the information on the relationships between our features and class labels (aka the signal). This can help us get a better picture of the nature of the associations i our data (linear, etc) and thus determine the right nature of models to use (eg linear because it seems to be linearly separable dataset vs polynomial/rbf svm because it is clearly not).\n",
    "[+ it can similarly direct us towards selecting clustering algos - if we see that the clusters that seem to stem out of our data aree far from spherical, or that they could have different sizes and/or densities, then K-Means clustering could be a bad choice, aka produce final clusters of little practical use]\n",
    "\n",
    "\n",
    "#### PCA \n",
    "\n",
    "In scikit-learn, PCA is implemented as a transformer object that learns `n` components in its `fit()` method, and can be used on new data to project it on these components. More information on how to use the `pca()` function and its parameters can be found at http://scikit-learn.org/stable/modules/generated/sklearn.decomposition.PCA.html"
   ]
  },
  {
   "cell_type": "code",
   "execution_count": 51,
   "metadata": {},
   "outputs": [],
   "source": [
    "# 1) Instantiate the PCA() object by passing as argument the value 0.90 (the cut-off variance value we would like to reach) \n",
    "# and store in a new variable \"pca\"\n",
    "# 2) Apply pca.fit_transform() on the X_train data and store into a new variable named \"pc_scores\"\n",
    "# 3) Print the PCA cummulative variance \n",
    "pca = PCA(0.90)\n",
    "pc_scores = pca.fit_transform(X_train)\n"
   ]
  },
  {
   "cell_type": "code",
   "execution_count": 52,
   "metadata": {},
   "outputs": [],
   "source": [
    "# Create a feature name for each Principal Component (such as PC1, PC2, ...) up to the detected number of current dimensions\n",
    "\n",
    "PCs = ['PC'+str(i+1) for i in range(pc_scores.shape[1])]"
   ]
  },
  {
   "cell_type": "markdown",
   "metadata": {},
   "source": [
    "The pc scores represent the position of each data sample as casted in this new coordinate system of principal components."
   ]
  },
  {
   "cell_type": "code",
   "execution_count": 53,
   "metadata": {},
   "outputs": [],
   "source": [
    "# Convert the pc_scores to a pandas DataFrame using pd.DataFrame() and pass as the columns argument the PCs list that was created in the prevous step\n",
    "# Assign back to pc_scores. Preview the first entries of pc_scores \n",
    "pc_scores = pd.DataFrame(pc_scores, columns=PCs)\n"
   ]
  },
  {
   "cell_type": "code",
   "execution_count": 54,
   "metadata": {},
   "outputs": [
    {
     "data": {
      "image/png": "[encoded data removed]",
      "text/plain": [
       "<Figure size 1200x800 with 1 Axes>"
      ]
     },
     "metadata": {},
     "output_type": "display_data"
    }
   ],
   "source": [
    "# Plot the first 2 Principal Components (\"PC1\" vs. \"PC2\") in a seaborn scatterplot \n",
    "# Optional/extra: Should you wish, you can join the y_train class label in the pc_scores and use it as hue in the scatterplot \n",
    "\n",
    "fig, ax = plt.subplots(figsize=(12,8))\n",
    "ax = sns.scatterplot(data=pc_scores, x='PC1', y='PC2')\n",
    "plt.show()"
   ]
  },
  {
   "cell_type": "code",
   "execution_count": 55,
   "metadata": {},
   "outputs": [
    {
     "data": {
      "text/html": [
       "<div>\n",
       "<style scoped>\n",
       "    .dataframe tbody tr th:only-of-type {\n",
       "        vertical-align: middle;\n",
       "    }\n",
       "\n",
       "    .dataframe tbody tr th {\n",
       "        vertical-align: top;\n",
       "    }\n",
       "\n",
       "    .dataframe thead th {\n",
       "        text-align: right;\n",
       "    }\n",
       "</style>\n",
       "<table border=\"1\" class=\"dataframe\">\n",
       "  <thead>\n",
       "    <tr style=\"text-align: right;\">\n",
       "      <th></th>\n",
       "      <th>exp_var</th>\n",
       "      <th>cum_var</th>\n",
       "    </tr>\n",
       "  </thead>\n",
       "  <tbody>\n",
       "    <tr>\n",
       "      <th>0</th>\n",
       "      <td>24.55</td>\n",
       "      <td>24.55</td>\n",
       "    </tr>\n",
       "    <tr>\n",
       "      <th>1</th>\n",
       "      <td>15.73</td>\n",
       "      <td>40.29</td>\n",
       "    </tr>\n",
       "    <tr>\n",
       "      <th>2</th>\n",
       "      <td>12.45</td>\n",
       "      <td>52.73</td>\n",
       "    </tr>\n",
       "    <tr>\n",
       "      <th>3</th>\n",
       "      <td>10.23</td>\n",
       "      <td>62.96</td>\n",
       "    </tr>\n",
       "    <tr>\n",
       "      <th>4</th>\n",
       "      <td>7.03</td>\n",
       "      <td>69.99</td>\n",
       "    </tr>\n",
       "  </tbody>\n",
       "</table>\n",
       "</div>"
      ],
      "text/plain": [
       "   exp_var  cum_var\n",
       "0    24.55    24.55\n",
       "1    15.73    40.29\n",
       "2    12.45    52.73\n",
       "3    10.23    62.96\n",
       "4     7.03    69.99"
      ]
     },
     "execution_count": 55,
     "metadata": {},
     "output_type": "execute_result"
    }
   ],
   "source": [
    "# Showing the explained and cumulative explained variance from each principal component \n",
    "exp_var = [i * 100 for i in pca.explained_variance_ratio_]\n",
    "cum_var = np.cumsum(pca.explained_variance_ratio_ * 100)\n",
    "pca_var = pd.DataFrame({'exp_var': exp_var, 'cum_var': cum_var})\n",
    "# maybe also set the index the same as pc_scores.columns ???\n",
    "pca_var.head()"
   ]
  },
  {
   "cell_type": "code",
   "execution_count": 56,
   "metadata": {},
   "outputs": [
    {
     "data": {
      "image/png": "[encoded data removed]",
      "text/plain": [
       "<Figure size 1000x500 with 1 Axes>"
      ]
     },
     "metadata": {},
     "output_type": "display_data"
    }
   ],
   "source": [
    "# Plot the explained variance per PC using a barplot\n",
    "\n",
    "fig = plt.figure(figsize=(10,5))\n",
    "ax = sns.barplot(x=pca_var.index, y='exp_var', data=pca_var)\n",
    "ax.set(xlabel='Principal Components', ylabel='Explained Variance')\n",
    "ax.set_xticklabels(ax.get_xticklabels(), rotation=30, fontsize=6)\n",
    "plt.show()"
   ]
  },
  {
   "cell_type": "code",
   "execution_count": 57,
   "metadata": {},
   "outputs": [
    {
     "data": {
      "image/png": "[encoded data removed]",
      "text/plain": [
       "<Figure size 1000x500 with 1 Axes>"
      ]
     },
     "metadata": {},
     "output_type": "display_data"
    }
   ],
   "source": [
    "# Plot the cumulative variance per PC using a barplot\n",
    "\n",
    "fig = plt.figure(figsize=(10,5))\n",
    "ax = sns.barplot(x=pca_var.index, y='cum_var', data=pca_var)\n",
    "ax.set(xlabel='Principal Components', ylabel='Cumulative Variance')\n",
    "ax.set_xticklabels(ax.get_xticklabels(), rotation=30, fontsize=6)\n",
    "plt.show()"
   ]
  },
  {
   "cell_type": "code",
   "execution_count": 58,
   "metadata": {},
   "outputs": [
    {
     "data": {
      "text/html": [
       "<div>\n",
       "<style scoped>\n",
       "    .dataframe tbody tr th:only-of-type {\n",
       "        vertical-align: middle;\n",
       "    }\n",
       "\n",
       "    .dataframe tbody tr th {\n",
       "        vertical-align: top;\n",
       "    }\n",
       "\n",
       "    .dataframe thead th {\n",
       "        text-align: right;\n",
       "    }\n",
       "</style>\n",
       "<table border=\"1\" class=\"dataframe\">\n",
       "  <thead>\n",
       "    <tr style=\"text-align: right;\">\n",
       "      <th></th>\n",
       "      <th>PC1</th>\n",
       "      <th>PC2</th>\n",
       "      <th>PC3</th>\n",
       "      <th>PC4</th>\n",
       "      <th>PC5</th>\n",
       "      <th>PC6</th>\n",
       "      <th>PC7</th>\n",
       "      <th>PC8</th>\n",
       "      <th>PC9</th>\n",
       "      <th>Survived</th>\n",
       "    </tr>\n",
       "  </thead>\n",
       "  <tbody>\n",
       "    <tr>\n",
       "      <th>0</th>\n",
       "      <td>3.27</td>\n",
       "      <td>0.47</td>\n",
       "      <td>0.07</td>\n",
       "      <td>-1.65</td>\n",
       "      <td>2.14</td>\n",
       "      <td>0.05</td>\n",
       "      <td>-0.21</td>\n",
       "      <td>0.04</td>\n",
       "      <td>0.86</td>\n",
       "      <td>NaN</td>\n",
       "    </tr>\n",
       "    <tr>\n",
       "      <th>1</th>\n",
       "      <td>-2.34</td>\n",
       "      <td>0.08</td>\n",
       "      <td>-0.36</td>\n",
       "      <td>-0.81</td>\n",
       "      <td>0.56</td>\n",
       "      <td>0.07</td>\n",
       "      <td>0.44</td>\n",
       "      <td>0.20</td>\n",
       "      <td>-0.10</td>\n",
       "      <td>0.0</td>\n",
       "    </tr>\n",
       "    <tr>\n",
       "      <th>2</th>\n",
       "      <td>-1.93</td>\n",
       "      <td>-0.63</td>\n",
       "      <td>0.10</td>\n",
       "      <td>2.24</td>\n",
       "      <td>1.01</td>\n",
       "      <td>-0.70</td>\n",
       "      <td>-0.43</td>\n",
       "      <td>0.95</td>\n",
       "      <td>-0.40</td>\n",
       "      <td>1.0</td>\n",
       "    </tr>\n",
       "    <tr>\n",
       "      <th>3</th>\n",
       "      <td>-2.09</td>\n",
       "      <td>0.42</td>\n",
       "      <td>-0.76</td>\n",
       "      <td>-0.47</td>\n",
       "      <td>-0.11</td>\n",
       "      <td>-0.44</td>\n",
       "      <td>-0.26</td>\n",
       "      <td>0.16</td>\n",
       "      <td>0.19</td>\n",
       "      <td>1.0</td>\n",
       "    </tr>\n",
       "    <tr>\n",
       "      <th>4</th>\n",
       "      <td>0.94</td>\n",
       "      <td>3.59</td>\n",
       "      <td>-1.02</td>\n",
       "      <td>0.49</td>\n",
       "      <td>-1.20</td>\n",
       "      <td>0.07</td>\n",
       "      <td>-3.06</td>\n",
       "      <td>-1.14</td>\n",
       "      <td>0.44</td>\n",
       "      <td>1.0</td>\n",
       "    </tr>\n",
       "  </tbody>\n",
       "</table>\n",
       "</div>"
      ],
      "text/plain": [
       "    PC1   PC2   PC3   PC4   PC5   PC6   PC7   PC8   PC9  Survived\n",
       "0  3.27  0.47  0.07 -1.65  2.14  0.05 -0.21  0.04  0.86       NaN\n",
       "1 -2.34  0.08 -0.36 -0.81  0.56  0.07  0.44  0.20 -0.10       0.0\n",
       "2 -1.93 -0.63  0.10  2.24  1.01 -0.70 -0.43  0.95 -0.40       1.0\n",
       "3 -2.09  0.42 -0.76 -0.47 -0.11 -0.44 -0.26  0.16  0.19       1.0\n",
       "4  0.94  3.59 -1.02  0.49 -1.20  0.07 -3.06 -1.14  0.44       1.0"
      ]
     },
     "execution_count": 58,
     "metadata": {},
     "output_type": "execute_result"
    }
   ],
   "source": [
    "# Plot the data points of the given dataset under the scope of the two first principal components ~ use case of PCA on EDA\n",
    "X_train_scores_enhanced = pc_scores.join(titanicData['Survived'])  # and not .join(y), so as to get only the correct number of \n",
    "# corresponding observations (works through index matching)\n",
    "X_train_scores_enhanced.head()"
   ]
  },
  {
   "cell_type": "code",
   "execution_count": 60,
   "metadata": {},
   "outputs": [
    {
     "data": {
      "image/png": "[encoded data removed]",
      "text/plain": [
       "<Figure size 1200x800 with 1 Axes>"
      ]
     },
     "metadata": {},
     "output_type": "display_data"
    }
   ],
   "source": [
    "fig, ax = plt.subplots(figsize=(12,8))\n",
    "ax = sns.scatterplot(data=X_train_scores_enhanced, x='PC1', y='PC2', hue='Survived')\n",
    "plt.show()"
   ]
  },
  {
   "cell_type": "markdown",
   "metadata": {},
   "source": [
    "Not a great distinction is made - the first two principal components do not explain the vast majority of variance in the given data."
   ]
  },
  {
   "cell_type": "markdown",
   "metadata": {},
   "source": [
    "We also see that the data are clearly not linearly separable - we do not expect that linear SVMs will perform well."
   ]
  },
  {
   "cell_type": "markdown",
   "metadata": {},
   "source": [
    "Additionally, it seemslike there are areas of varying densities, and the clusters that could be formed may not be spherical. So a K-Means model is not expected to perform well enough and produce clusters of "
   ]
  },
  {
   "cell_type": "markdown",
   "metadata": {},
   "source": [
    "#### 2. K-means\n",
    "\n",
    "#### Elbow method \n",
    "\n",
    "Elbow Method : There’s a sweet spot where the SSE curve starts to bend known as the elbow point. The x-value of this point is thought to be a reasonable trade-off between error and number of clusters. The elbowpoint is the point where the rate of decrease of mean distance i.e. SSE will not change significantly with increase in number of clusters."
   ]
  },
  {
   "cell_type": "code",
   "execution_count": 61,
   "metadata": {},
   "outputs": [
    {
     "data": {
      "image/png": "[encoded data removed]",
      "text/plain": [
       "<Figure size 800x550 with 1 Axes>"
      ]
     },
     "metadata": {},
     "output_type": "display_data"
    }
   ],
   "source": [
    "# Can you run the elbow rule to find the optimal number of K for kmeans that we need to use on our pc_scores?? \n",
    "# Create an empty list for sum of squared distances to be appended for k values 2 to 15\n",
    "Sum_of_squared_distances = [] \n",
    "\n",
    "# Values for K (centroids) \n",
    "K = range(2, 15)\n",
    "\n",
    "for k in K:\n",
    "    km = KMeans(n_clusters =k)\n",
    "    km = km.fit(pc_scores)\n",
    "    # sum of squared errors in the final clusters    \n",
    "    Sum_of_squared_distances.append(km.inertia_)\n",
    "    \n",
    "plt.plot(K, Sum_of_squared_distances, 'bx-')\n",
    "plt.xlabel('k')\n",
    "plt.ylabel('SSE')\n",
    "plt.title('Elbow Method For Optimal k')\n",
    "plt.show()"
   ]
  },
  {
   "cell_type": "markdown",
   "metadata": {},
   "source": [
    "The elbow curve is pretty smooth - the optimal k is given at the point where there begin the diminising returns in SSE reduction from adding an extra cluster. That seems to be at around 6 clusters. "
   ]
  },
  {
   "cell_type": "code",
   "execution_count": 62,
   "metadata": {},
   "outputs": [
    {
     "data": {
      "image/png": "[encoded data removed]",
      "text/plain": [
       "<Figure size 800x550 with 1 Axes>"
      ]
     },
     "metadata": {},
     "output_type": "display_data"
    }
   ],
   "source": [
    "# I will also plot the silhouette coefficient for the same range of K values to see what first best.\n",
    "model = KMeans(random_state=123) \n",
    "\n",
    "visualizer = KElbowVisualizer(model, k=(2, 15), metric='silhouette', timings=False)  # timings would return to as the amount of time to \n",
    "# train the clustering model per K as a dashed green line\n",
    "visualizer.fit(pc_scores)    \n",
    "visualizer.poof()\n",
    "plt.show()"
   ]
  },
  {
   "cell_type": "markdown",
   "metadata": {},
   "source": [
    "I have conflicting results - I will go with k = 5 as it is suggested to go with lower k when troubled. "
   ]
  },
  {
   "cell_type": "code",
   "execution_count": 63,
   "metadata": {},
   "outputs": [
    {
     "data": {
      "text/html": [
       "<div>\n",
       "<style scoped>\n",
       "    .dataframe tbody tr th:only-of-type {\n",
       "        vertical-align: middle;\n",
       "    }\n",
       "\n",
       "    .dataframe tbody tr th {\n",
       "        vertical-align: top;\n",
       "    }\n",
       "\n",
       "    .dataframe thead th {\n",
       "        text-align: right;\n",
       "    }\n",
       "</style>\n",
       "<table border=\"1\" class=\"dataframe\">\n",
       "  <thead>\n",
       "    <tr style=\"text-align: right;\">\n",
       "      <th></th>\n",
       "      <th>PC1</th>\n",
       "      <th>PC2</th>\n",
       "      <th>PC3</th>\n",
       "      <th>PC4</th>\n",
       "      <th>PC5</th>\n",
       "      <th>PC6</th>\n",
       "      <th>PC7</th>\n",
       "      <th>PC8</th>\n",
       "      <th>PC9</th>\n",
       "      <th>KMCluster</th>\n",
       "    </tr>\n",
       "  </thead>\n",
       "  <tbody>\n",
       "    <tr>\n",
       "      <th>0</th>\n",
       "      <td>3.27</td>\n",
       "      <td>0.47</td>\n",
       "      <td>0.07</td>\n",
       "      <td>-1.65</td>\n",
       "      <td>2.14</td>\n",
       "      <td>0.05</td>\n",
       "      <td>-0.21</td>\n",
       "      <td>0.04</td>\n",
       "      <td>0.86</td>\n",
       "      <td>2</td>\n",
       "    </tr>\n",
       "    <tr>\n",
       "      <th>1</th>\n",
       "      <td>-2.34</td>\n",
       "      <td>0.08</td>\n",
       "      <td>-0.36</td>\n",
       "      <td>-0.81</td>\n",
       "      <td>0.56</td>\n",
       "      <td>0.07</td>\n",
       "      <td>0.44</td>\n",
       "      <td>0.20</td>\n",
       "      <td>-0.10</td>\n",
       "      <td>1</td>\n",
       "    </tr>\n",
       "    <tr>\n",
       "      <th>2</th>\n",
       "      <td>-1.93</td>\n",
       "      <td>-0.63</td>\n",
       "      <td>0.10</td>\n",
       "      <td>2.24</td>\n",
       "      <td>1.01</td>\n",
       "      <td>-0.70</td>\n",
       "      <td>-0.43</td>\n",
       "      <td>0.95</td>\n",
       "      <td>-0.40</td>\n",
       "      <td>1</td>\n",
       "    </tr>\n",
       "    <tr>\n",
       "      <th>3</th>\n",
       "      <td>-2.09</td>\n",
       "      <td>0.42</td>\n",
       "      <td>-0.76</td>\n",
       "      <td>-0.47</td>\n",
       "      <td>-0.11</td>\n",
       "      <td>-0.44</td>\n",
       "      <td>-0.26</td>\n",
       "      <td>0.16</td>\n",
       "      <td>0.19</td>\n",
       "      <td>1</td>\n",
       "    </tr>\n",
       "    <tr>\n",
       "      <th>4</th>\n",
       "      <td>0.94</td>\n",
       "      <td>3.59</td>\n",
       "      <td>-1.02</td>\n",
       "      <td>0.49</td>\n",
       "      <td>-1.20</td>\n",
       "      <td>0.07</td>\n",
       "      <td>-3.06</td>\n",
       "      <td>-1.14</td>\n",
       "      <td>0.44</td>\n",
       "      <td>3</td>\n",
       "    </tr>\n",
       "  </tbody>\n",
       "</table>\n",
       "</div>"
      ],
      "text/plain": [
       "    PC1   PC2   PC3   PC4   PC5   PC6   PC7   PC8   PC9  KMCluster\n",
       "0  3.27  0.47  0.07 -1.65  2.14  0.05 -0.21  0.04  0.86          2\n",
       "1 -2.34  0.08 -0.36 -0.81  0.56  0.07  0.44  0.20 -0.10          1\n",
       "2 -1.93 -0.63  0.10  2.24  1.01 -0.70 -0.43  0.95 -0.40          1\n",
       "3 -2.09  0.42 -0.76 -0.47 -0.11 -0.44 -0.26  0.16  0.19          1\n",
       "4  0.94  3.59 -1.02  0.49 -1.20  0.07 -3.06 -1.14  0.44          3"
      ]
     },
     "execution_count": 63,
     "metadata": {},
     "output_type": "execute_result"
    }
   ],
   "source": [
    "kmodel = KMeans(n_clusters=5)\n",
    "kmodel.fit(pc_scores)\n",
    "cluster_assignments = kmodel.labels_\n",
    "pc_scores['KMCluster'] = cluster_assignments\n",
    "pc_scores.head()"
   ]
  },
  {
   "cell_type": "code",
   "execution_count": 64,
   "metadata": {},
   "outputs": [
    {
     "data": {
      "image/png": "[encoded data removed]",
      "text/plain": [
       "<Figure size 1200x1000 with 1 Axes>"
      ]
     },
     "metadata": {},
     "output_type": "display_data"
    }
   ],
   "source": [
    "fig, ax = plt.subplots(figsize=(12,10))\n",
    "ax = sns.scatterplot(data=pc_scores, x='PC1', y='PC2', hue='KMCluster')\n",
    "plt.show()"
   ]
  },
  {
   "cell_type": "code",
   "execution_count": null,
   "metadata": {},
   "outputs": [],
   "source": [
    "# 1) Instantiate a KMeans object with n_clusters equal to the **OPTIMAL k** as found above and store it in a variable named \"kmodel\" \n",
    "# 2) .fit() the kmodel model on the pc_scores(!!) data \n",
    "# 3) Use the .labels_ parameter on kmodel to get the assinged clusters and save the results in a new variable \"cluster_assignment\".\n",
    "# 4) Save the output of cluster_assignment to pc_scores[\"KMCluster\"]  \n",
    "# 5) Preview the first few rows of pc_scores\n",
    "kmodel = KMeans(n_clusters=5)  # need to re-run\n",
    "kmodel.fit(pc_scores)\n",
    "cluster_assignment = kmodel.labels_\n",
    "pc_scores['KMCluster'] = cluster_assignment\n",
    "pc_scores.head()"
   ]
  },
  {
   "cell_type": "code",
   "execution_count": null,
   "metadata": {},
   "outputs": [],
   "source": [
    "# Plot the 2 Principal Components (PC scores) in a scatterplot using the \"KMCluster\" as hue\n",
    "# Enhanced scatterplot \n",
    "sns.scatterplot(data=pc_scores, x='PC1', y='PC2', hue='KMCluster')\n",
    "plt.show()\n"
   ]
  },
  {
   "cell_type": "code",
   "execution_count": null,
   "metadata": {},
   "outputs": [],
   "source": [
    "# Due to the fact that the first two components explain even less than 50% of the variance existent in the given data, this 2D representation \n",
    "# does now show well separated clusters. "
   ]
  },
  {
   "cell_type": "markdown",
   "metadata": {},
   "source": [
    "## Model, predict and solve\n",
    "\n",
    "### Classifiers - Predict using the *subset* test set (not the unknown yet) "
   ]
  },
  {
   "cell_type": "code",
   "execution_count": null,
   "metadata": {},
   "outputs": [],
   "source": [
    "# Create an empty DataFrame to store and compare all evaluation results (performance metrics) across all classifiers \n",
    "\n",
    "clf_results = pd.DataFrame([])"
   ]
  },
  {
   "cell_type": "markdown",
   "metadata": {},
   "source": [
    "## Support Vector Machines \n",
    "kernel -> linear -> that will dictate the geometric form of the boundary when it gets projected into the initial features space (<> not necessarily in the higher-dimensionaln space that features are initially cats upon in order to find a perfect split between the classes)\n",
    "\n",
    "\n",
    "Since the SVM optimization goal is based on geometric distances, axis with very different scaling makes the model favor the direction with the largest values => very important to scale your data beforehand!!! Otherwise, it will consider the features of higher range as being of higher significance, meaning that they will be perceived by the algorithm in contributing more to distinct between the various classes. \n",
    "\n",
    "**difference of SVMs to KNN and DT/RF classifiers:** SVMs only use the support vectors to solve for their objective/loss/cost function, and NOT all the samples in the input data !!! Deleting the support vectors will change the position of the hyperplane ~ the boundary would get redesigned completely; SVs are KEY <> if we removed any other point, NOTHING would change\n",
    "\n",
    "+ **difference specifically with DT/RF classifiers:** the boundaries drawn by DT/RF classifiers (in the original dimensions of the training data, since they do not cast them to higher dimensional spaces) are strictly linear and they create box-like boundaries (i.e. they are parallel to the axes) <> this is not necessarily true for SMVs, it depends on the type of kernel we choose\n",
    "\n",
    "+ **diff with KNN;** the KNN classifier is an instance-based learner, it doesn't actively create boundaries but instead it classifies new/unknown samples based on their distance from all the training data whose characteristics/feature values it keeps stored in memory\n",
    "\n",
    "<strong><u>Objective function:</u></strong> maximize the margin between the hyperplane that distinguishes the two classes and the support vectors (i.e. the closest data points from each class).\n",
    "Why? The larger the margin, the higher the generalization ability of the model. \n",
    "\n",
    "Even if the data are linearly separable so we can use the linear kernel to perform classifications with little training error, we might prefer to conduct not hard-margin classification but soft-margin classification, in order to favor our model’s generalization performance by reducing variance, aka the probability of overfitting to the given dataset’s very specific characteristics.\n",
    "This slightly modifies the objective function: we add a factor of penalty for margin violations so as to maximize margin while also minimizing the total amount of slacks. \n",
    "\n",
    "Techniques implemented to avoid overfitting in SVM models are called to perform <strong><u>“regularization”</u></strong>. As C increases => cost/penalty increases => the model becomes more strict in allowing points to run free on either side of the spectrum (the \"street\") => margin decreases => the probability of overfitting increases. In the extreme case (i.e. for \"infinitely\" high values of C) we revert to the case of hard-margin classification. Smaller C (and, similarly, higher gamma) will produce boundaries with more support vectors. By increasing the number of support vectors, SVM reduces its variance, since it depends less on any individual observation (which is very dataset-specific). Reducing variance makes the model more generalized.\n",
    "\n",
    "<strong><u>In linearly inseparable data (which we can observe through PCA visualizations) -> what can we do?</u></strong>\n",
    "An idea is to project the training samples to a higher dimensional space in which separation is possible. \n",
    "A very surprising aspect of SVMs is that in all of the mathematical machinery it uses, the exact projection, or even the number of dimensions, doesn’t show up. You could write all of it in terms of the dot products between various data points (represented as vectors - the higher the dot product, the more similar the two samples).\n",
    "If we have n points in our dataset, the SVM needs only the dot product of each pair of points to find a classifier. Just that. This is also true when we want to project data to higher dimensions. We don’t need to provide the SVM with exact projections; we need to give it the dot product between all pairs of points in the projected space.\n",
    "A kernel, short for kernel function, takes as input two points in the original space, and directly gives us the dot product in the projected space. <> If we were to first perform the projection and then compute the dot products of all pairs of values in our training set, that would need a multitude of extra operations compared to just feeding all possible pairs of data points into the kernel function (~ much more computationally efficient) => kernels give us the exact same result (w/o any inaccuracies) + they have parameters we can tweak so as to help the model get a better grasp of our training set. \n",
    "\n",
    " So, in linearly inseparable cases, we make use of <strong><u>kernel functions - how do they work?</u></strong>\n",
    "(in the simplest case - 2D feature space)\n",
    "- Start from a non-separable 2D space - NO linear model could accurately separate the 2 classes in such a case. \n",
    "- Perform the inverse of pca (dimensionality reduction technique): fit the data into a kernel function that does a pre-processing & transforms/projects them to a higher dimensional space, in which (linear, polynomial, sigmoid, Gaussian or whatever) separation is effectively possible. \n",
    "<strong>!!! BUT !!! the number of dimensions shouldn't be too high => this would result in very complex boundaries => sharpened risk of overfitting.</strong>\n",
    "- Then, we back-project the data & the boundary to the initial input space. This may give us ANY shape or form around our training data; the risk of overfitting is very high in this approach. Some complexity is inevitable to be involved. However, this doesn't necessarily lead to overfitting. \n",
    "\n",
    "Kernels typically considered: Lineary, polynomial, rbf (widely used when we have little clue of the data under study), sigmoid -> the higher the additional hyperparams (other than C), the longer it takes is to optimize, and we may end up with curves that are too complex resulting in overfitting on our data\n",
    "\n",
    "<strong><u>gamma hyperparameter/factor:</u></strong> the higher the gamma, the lower the distance of influence of a single support vector, so the more the boundary will end up surrounding it and the higher its complexity/variance.\n",
    "High gamma: the model will tend to create curves that only surround the SVs - no regularization with C can improve the situation\n",
    "Low gamma: distant points will also influence the support vectors, in so that the boundary’s form would depend only on the existence of areas of high density in the data and would just try to separate those, missing the dataset’s complexity or “shape” - no regularization with C can improve the situation\n",
    "<strong><u>So we typically opt for medium values of gamma, and perform regularization by tweaking C - higer values make smooth models more complex.</u></strong>\n",
    "\n",
    "<strong>“Regularization parameters dictate the trade-off between bias and variance, aka between having a wide margin and correctly classifying the training data (error toleration).”<strong>\n",
    "\n",
    "So by reducing C or increasing gamma we can “regularize” our model if we think it is over-fitting \n",
    "<=> \n",
    "go for smoother boundaries with higher margins, through allowing for more misclassifications on the training set (margin violations), producing a more flexible model that will generalize better\n",
    "\n",
    "\n",
    "<strong>Advantages:</strong> very flexible (allows for different kernels to be used), can perform well even in high dimensional spaces, and also in cases where # dimensions/features > # samples + memory efficient as it only uses the support vectors to construct the decision function \n",
    "<strong>Disadvantages:</strong> black box model, we need to perform memory expensive methods to extract its decision criteria + choosing the right kernel might be tricky \n",
    "\n",
    "#### 1a. Support Vector Machine (RBF) - benchmark model (default parameters)"
   ]
  },
  {
   "cell_type": "code",
   "execution_count": null,
   "metadata": {},
   "outputs": [],
   "source": [
    "# Step 1 - Instantiate the SVC() classifier using the default parameters (Default hyperparameters are C=1.0, kernel=rbf and gamma=auto) \n",
    "# Assign the result into a new variable named \"rbf_svm\" \n",
    "# Step 2 - Fit the rbf_svm model to the training set (X_train, y_train)\n",
    "# Step 3 - Predict the test data (X_test) using the rbf_svm model and assign to \"y_pred_rbf_svm\" \n",
    "# Step 4 - Print the final overall accuracy and classification_report for the test set (X_test) \n",
    "\n",
    "rbf_svm = SVC()\n",
    "rbf_svm.fit(X_train.values, y_train.values.ravel())\n",
    "y_pred_rbf_svm = rbf_svm.predict(X_test.values)\n",
    "print('Overall Accuracy:', metrics.accuracy_score(y_test, y_pred_rbf_svm))\n",
    "print('Classification report:\\n', metrics.classification_report(y_test, y_pred_rbf_svm))"
   ]
  },
  {
   "cell_type": "markdown",
   "metadata": {},
   "source": [
    "We see that it managed to capture 71% of all minority class samples, and 85% of the \"Didn't Survive\" predictions it gave were Correct. All in all, it managed to catch 81% (macro recall) of actual values from each class on average, and 84% (on average) of the predictions it gave equal to each class label were correct (macro precision). \n",
    "\n",
    "The weighted average of these two gives 0.82 f1-score (macro). \n",
    "\n",
    "We consider macro f1-scores to make performance comparisons between different models. This is because here we have significant class imbalances, so weighted metrics, given that the model performs well on the majority class, obscure the reality of the overall accuracy of the model through the higher weights they assign to the scores on the majority class. \n",
    "\n",
    "We prefer it over other metrics like \"accuracy\", because f1-score takes into account both precision and recall, so it is sensitive to both type 1 and type 2 errors (false positive -i.e. wrong classification that a sample belongs to the 'didn't survive' class and false negative -i.e. falsely claiming that a sample belongs to the 'Survived' class, respectively), so it gives a more balanced view of the model's generalization performance.\n",
    "\n",
    "\n",
    "\n",
    "<strong><u>! In cases where it is ver crucial to correctly classify unseen/new samples of the minority class, it could be even better if we only considered the f1 score for the minority class to find the odel with the highest and most balanced result in terms of exactness (precision) and completeness (Recall). </u></strong>"
   ]
  },
  {
   "cell_type": "code",
   "execution_count": null,
   "metadata": {},
   "outputs": [],
   "source": [
    "# Add the results of the benchmark SVM classifier as a new row into clf_results that collects all the results across all models\n",
    "\n",
    "clf_results = pd.concat([clf_results, pd.json_normalize({'Model': 'Benchmark RBF SVM', \n",
    "                                                         'Accuracy': round(metrics.accuracy_score(y_test, y_pred_rbf_svm), 3), \n",
    "                                                         'F1': round(metrics.f1_score(y_test, y_pred_rbf_svm), 3)})])\n",
    "\n",
    "clf_results"
   ]
  },
  {
   "cell_type": "markdown",
   "metadata": {},
   "source": [
    "#### 1b. Linear SVM - benchmark model (default parameters)"
   ]
  },
  {
   "cell_type": "code",
   "execution_count": null,
   "metadata": {},
   "outputs": [],
   "source": [
    "# 1. Instantiate the SVC classifier with a linear kernel. Assign the result into a new variable named \"linear_svm\" \n",
    "# Step 2 - Fit the linear_svm model to the training set (X_train, y_train)\n",
    "# Step 3 - Predict the test data (X_test) using the linear_svm model and assign to \"y_pred_linear_svm\"\n",
    "# Step 4 - Print the final overall accuracy and classification_report for the test set (X_test) \n",
    "\n",
    "linear_svm = SVC(kernel='linear')\n",
    "linear_svm.fit(X_train.values, y_train.values.ravel())\n",
    "y_pred_linear_svm = linear_svm.predict(X_test.values)\n",
    "\n",
    "print('Overall Accuracy:', metrics.accuracy_score(y_test, y_pred_linear_svm))\n",
    "print('Classification report:\\n', metrics.classification_report(y_test, y_pred_linear_svm))"
   ]
  },
  {
   "cell_type": "markdown",
   "metadata": {},
   "source": [
    "Because the hyperplane the linear kernel constructs between classes is simpler, it did a poorer job both in capturing the actual samples of each class (recall on each class as well as macro) and in giving accurate predictions for each class (precision on each class as well as macro). This also gave it a lower f1 score."
   ]
  },
  {
   "cell_type": "code",
   "execution_count": null,
   "metadata": {},
   "outputs": [],
   "source": [
    "# Add the results of the benchmark SVM classifier as a new row into clf_results that collects all the results across all models\n",
    "\n",
    "clf_results = pd.concat([clf_results, pd.json_normalize({'Model': 'Benchmark Linear SVM', \n",
    "                                                         'Accuracy': round(metrics.accuracy_score(y_test, y_pred_linear_svm), 3), \n",
    "                                                         'F1': round(metrics.f1_score(y_test, y_pred_linear_svm), 3)})])\n",
    "\n",
    "clf_results"
   ]
  },
  {
   "cell_type": "markdown",
   "metadata": {},
   "source": [
    "#### 1c. Optimal SVM - SVM hyperparameter tuning\n",
    "\n",
    "Proper choice of C and gamma is critical to the SVM’s performance. **One is advised to use GridSearchCV with `C` and `gamma` spaced exponentially far apart to choose good values.** Detailed information on the SVM hyperparameters can be found at https://scikit-learn.org/stable/auto_examples/svm/plot_rbf_parameters.html#sphx-glr-auto-examples-svm-plot-rbf-parameters-py \n",
    "\n",
    "As a first step, create a dictionary of hyperparameter ranges and conduct a grid or random search with cross-validation:"
   ]
  },
  {
   "cell_type": "code",
   "execution_count": null,
   "metadata": {},
   "outputs": [],
   "source": [
    "# Finding the optimal SVM classifier - I make sure that, in my parameter values grid, C and gamma values are spaced exponentially \n",
    "# between them, as this is the recommended practice\n",
    "C_range = [0.0001, 0.001, 0.01, 0.1, 1, 10, 100]\n",
    "gamma_range = [1, 0.1, 0.01, 0.001, 0.0001,'auto','scale']\n",
    "param_grid = [ {'C':C_range, 'kernel':['linear'], 'class_weight': [None, 'balanced']},  # even though we're also doing stratified cross \n",
    "              # validation, we take an extra step to address class imbalances by validating for the various options of class weigtings as well\n",
    "               {'C':C_range, 'kernel':['rbf'], 'gamma':gamma_range, 'class_weight': [None, 'balanced']},\n",
    "               {'C':C_range, 'kernel':['poly'],'degree': [2,3,4] ,'gamma':gamma_range, 'class_weight': [None, 'balanced']} \n",
    "             ]  # here I am asked to check what happens on different value sets for various hyperparameters\n",
    "\n",
    "svm_grid_cv = GridSearchCV(estimator=SVC(random_state=0),\n",
    "                        param_grid=param_grid,\n",
    "                        n_jobs=-1,\n",
    "                        cv=10  # and not 10-fold, for speed reasons - because here we do not hold a lot of data samples, we would generally want to do 10-fold to get more data fdor the model to train on on each fold\n",
    "                        # Also, inserting an integer in the classification case ensures that stratified k-fold cross validation takes place \n",
    "                        )\n",
    "\n",
    "svm_grid_cv.fit(X_train.values, y_train.values.ravel())\n"
   ]
  },
  {
   "cell_type": "markdown",
   "metadata": {},
   "source": [
    "<strong><u>Note</u></strong>: under a case of class imbalances like this one, we used the f1 score (on the minority) class to compare the performance of various models. However, when fine tuning a specific model, we assess the various candidate estimators based on the \"accuracy\" (default metric of sklearn on classification cases) of their predictions on the test set. \n",
    "\n",
    "This is because y_test will always have a set number of samples pertaining to each class, so the model with the highest accuracy is expected to catch most if not all samples of the majority class, but it would be expected to also catch a reasonable amount of cases of the minority class."
   ]
  },
  {
   "cell_type": "code",
   "execution_count": null,
   "metadata": {},
   "outputs": [],
   "source": [
    "print('Best SVM parameters:', svm_grid_cv.best_params_)"
   ]
  },
  {
   "cell_type": "code",
   "execution_count": null,
   "metadata": {},
   "outputs": [],
   "source": [
    "# 1. Build the (optimal) classifier using the optimal parameters detected by the tuning process. Assign to a new variable svm_opt. \n",
    "# Note: you can use either svm_grid_cv.best_estimator_ to retrieve the model or the svm_grid_cv.best_params_ from above into a new SVC()\n",
    "# 2 - Fit the svm_opt model to the training set (X_train)\n",
    "# 3 - Predict the test data (X_test) using the svm_opt model. Assign to a variable named y_pred_svm_opt\n",
    "# 4 - Print the final overall accuracy and classification_report for the test set (X_test) \n",
    "svm_opt = svm_grid_cv.best_estimator_\n",
    "svm_opt.fit(X_train.values, y_train.values.ravel())\n",
    "y_pred_svm_opt = svm_opt.predict(X_test.values)\n",
    "print('Overall Accuracy:', metrics.accuracy_score(y_test, y_pred_svm_opt))\n",
    "print('Classification report:\\n', metrics.classification_report(y_test, y_pred_svm_opt))\n"
   ]
  },
  {
   "cell_type": "code",
   "execution_count": null,
   "metadata": {},
   "outputs": [],
   "source": [
    "# Add the results of the optimal SVM classifier as a new row into clf_results that collects all the results across all models\n",
    "\n",
    "clf_results = pd.concat([clf_results, pd.json_normalize({'Model': 'Tuned SVM', \n",
    "                                                         'Accuracy': round(metrics.accuracy_score(y_test, y_pred_svm_opt), 3), \n",
    "                                                         'F1': round(metrics.f1_score(y_test, y_pred_svm_opt), 3)})])\n",
    "\n",
    "clf_results"
   ]
  },
  {
   "cell_type": "markdown",
   "metadata": {},
   "source": [
    "#### 2a. KNN - benchmark model (default parameters)"
   ]
  },
  {
   "cell_type": "markdown",
   "metadata": {},
   "source": [
    "- <strong>Added value:</strong> - \n",
    "- <strong>Hyperparameters:</strong> distance metric, weighting of distances, n_neighbors considered for classification out of majority voting \n",
    "- <strong>Unique characteristics (in comparison to DTs/RFs and SVMs we’ve looked at)</strong>: “lazy” (instance-based) learner, doesn’t actively build a boundary => it doesn’t store a boundary in memory, rather it keeps ALL training samples stored and uses all of them to make computations each time it comes across a new data sample => very expensive (computationally) to get a classification (<> the other models may be expensive to train but they only compare the feature set of new samples to the boundaries they construct, so classification is much easier/faster/resource cheap)\n",
    "- <strong>Problem/Downside:</strong> it stores all the training set in memory and coprates each new/unseen data sample with all points in the training set each time a prediction is to be made => very computationally expensive to get predictions, although it is not expensive to ‘fit/train’ it. \n",
    "- <strong>Objective function: ???</strong> (get the k (pre-set) first samples you get when you order them in descending order based on distance from a new sample)"
   ]
  },
  {
   "cell_type": "code",
   "execution_count": null,
   "metadata": {},
   "outputs": [],
   "source": [
    "# Step 1 - Instantiate the KNeighborsClassifier() classifier using the default parameters  \n",
    "# Assign the result into a new variable named \"knn\" \n",
    "# Step 2 - Fit the knn model to the training set (X_train, y_train)\n",
    "# Step 3 - Predict the test data (X_test) using the knn model. Assign to y_pred_knn\n",
    "# Step 4 - Print the final overall accuracy and classification_report for the test set (X_test) \n",
    "\n",
    "knn = KNeighborsClassifier()\n",
    "knn.fit(X_train.values, y_train.values.ravel())\n",
    "y_ped_knn = knn.predict(X_test.values)\n",
    "print('Overall Accuracy:', metrics.accuracy_score(y_test, y_ped_knn))\n",
    "print('Classification report:\\n', metrics.classification_report(y_test, y_ped_knn))\n",
    "\n",
    "\n",
    "knn = KNeighborsClassifier()\n",
    "knn.fit(X_train/values, y_train.values.ravel())\n",
    "y_pred_knn = knn.predict(X_test.values)\n",
    "print(metrics.classification_score(y_test, y_pred_knn)\n",
    "\n",
    "param_grid = {}\n",
    "grid_knn = RandomizedSearchCV(KNeighborsClassifier, n_iter=50, n_jobs=-1, cv=5, param_grid=param_Grid)\n",
    "grid_knn.fit(X_train/values, y_train/values.ravel())\n",
    "knn_opt = grid_knn.best_estimator_\n",
    "knn_opt.fit(X_train.values, yy_train.values.varel())\n",
    "ypred\n"
   ]
  },
  {
   "cell_type": "code",
   "execution_count": null,
   "metadata": {},
   "outputs": [],
   "source": [
    "# Use GridSearchCV() with 5-fold or 10-fold cross-validation (cv=5 or cv=10) on KNeighborsClassifier() \n",
    "# (more cv folds reduces the chances of overfitting but also increases the run time) on the KNeighborsClassifier classifier \n",
    "# 1. Create the dictionary of hyperparameters for KNN\n",
    "# 2. Set up the GridSearchCV and assign to a new variable named knn_grid_cv\n",
    "# 3. Fit the grid or random search model to X_train and y_train \n",
    "# 4. Report the optimal parameters\n",
    "\n",
    "params_grid = {'n_neighbors': np.arange(1,101,5), \n",
    "               'metric': ['euclidean'], \n",
    "               'weights': ['uniform', 'distance']}\n",
    "\n",
    "gridCV_knn =GridSearchCV(estimator=KNeighborsClassifier(), \n",
    "                param_grid = params_grid, \n",
    "                cv = 10, # inserting an integer in the classification case ensures that stratified k-fold cross validation takes place \n",
    "                n_jobs = -1,\n",
    "            )\n",
    "g2ridCV_knn =RandomizedSearchCV(estimator=KNeighborsClassifier(), \n",
    "                param_distributions = params_grid, \n",
    "                cv = 10, # inserting an integer in the classification case ensures that stratified k-fold cross validation takes place \n",
    "                n_jobs = -1,\n",
    "                n_iter=50\n",
    "            )\n",
    "\n",
    "\n",
    "gridCV_knn.fit(X_train.values, y_train.values.ravel())"
   ]
  },
  {
   "cell_type": "code",
   "execution_count": null,
   "metadata": {},
   "outputs": [],
   "source": [
    "print('Best KNN parameters:', gridCV_knn.best_params_)"
   ]
  },
  {
   "cell_type": "code",
   "execution_count": null,
   "metadata": {},
   "outputs": [],
   "source": [
    "# Build the classifier using the optimal parameters detected by the tuning process\n",
    "# Note: you can use either knn_grid_cv.best_estimator_ to retrieve the optimal model. Assign to knn_opt.  \n",
    "# 2 - Fit the knn_opt model to the training set (X_train, y_train)\n",
    "# 3 - Predict the test data (X_test) using the knn_opt model. Assign to a variable named y_pred_knn_opt\n",
    "# 4 - Print the final overall accuracy and classification_report for the test set (X_test) \n",
    "knn_opt = gridCV_knn.best_estimator_\n",
    "knn_opt.fit(X_train.values, y_train.values.ravel())\n",
    "y_pred_knn_opt = knn_opt.predict(X_test.values)\n",
    "print('Overall Accuracy:', metrics.accuracy_score(y_test, y_pred_knn_opt))\n",
    "print('Classification Report:\\n', metrics.classification_report(y_test, y_pred_knn_opt))"
   ]
  },
  {
   "cell_type": "code",
   "execution_count": null,
   "metadata": {},
   "outputs": [],
   "source": [
    "# Add the results of the optimal KNN classifier as a new row into clf_results that collects all the results across all models\n",
    "\n",
    "clf_results = pd.concat([clf_results, pd.json_normalize({'Model': 'Tuned KNN',\n",
    "                                                         'Accuracy': round(metrics.accuracy_score(y_test, y_pred_knn_opt),3), \n",
    "                                                         'F1': round(metrics.f1_score(y_test, y_pred_knn_opt), 3)})])\n",
    "\n",
    "clf_results"
   ]
  },
  {
   "cell_type": "markdown",
   "metadata": {},
   "source": [
    "### DECISION TREES\n",
    "They are extremely easy to use, requiring little pre-processing of input data; no need to scaling, dealing with missing values, mapping of categorical values to numerical ones (it works well with both numerical and categorical data, no need to input only data in numeric format!!! <> svms and KNN classifiers). \n",
    "                +\n",
    "They offer the <strong>great added benefit</strong> in that they provide insight on the importance of each feature in making predictions/in classifying new data samples. (part of being a white-box model) ~ done through implementing methods working based on how often a feature is used in the model and how much it contributes to the overall predictions (RF: as in how many times each feature is considered by weak/base learners to make classifications)\n",
    "+ Decision trees (so RFs as well), unlike linear models (like the linear svm), can fit linearly inseparable datasets.\n",
    "\n",
    "~ the <strong>root node</strong> (topmost node): the most important feature we split upon \n",
    "\n",
    "<strong>Problem/Disadvantage:</strong> BUT on taking one Decision Tree on its own, it is VERY unstable as all splits depend on the very specific values that the featurse in the input dataset take, so they show high variance and are very prone to overfitting and thus poor generalization performance (problem tackled through fitting random forests OR ENSEMBLE MODELS in general, which typically use decision trees as their base learners!)\n",
    "\n",
    "<strong>Characteristic unique to decision trees:</strong> the resulting boundaries [they <strong>do</strong> create boundaries, unline the knn classifiers] are box-like, strictly parallel to the two axes. \n",
    "\n",
    "<strong>Objective function:</strong> max information gain <strong>on each split</strong> (recusrive, “greedy” approach) = the reduction in entropy (or gini impurity - this is what sklearn’s CART algorithm does) after the dataset is split on an attribute\n",
    "\n",
    "<strong>How they work:</strong> ~ each question is constructed by considering each unique value of each feature in the features set. For each value present for categorical variables (like color), it is structured as \"is color x/y/z?\" <> for each value present for numerical variables (like diameter), it is structured as \"is diameter >= value1/value2/value3...?\"\n",
    "Then the information gain is computed in each case, and the node is selected based on what question gives the highest value of information gain. \n",
    "The higher the information gain, the better the decision split… because it means that the split concerned results in nodes of higher homogeinity, so it better succeeds in contributing to the creation of perfect boundaries in our predictor space (and uncovering the hidden associations between the features set and the values of the class variable - however, we must be cautious so as to prevent also catching the noise present in the dataset we happened to obtain; that is why we allow for some heterogeneity in leaf nodes!!!) -> this is called ”early extermination” here (through “post/past-pruning”, k-fold validation, or ensemble models) <> svms -> regularization\n",
    "\n",
    "<strong>Pruning:</strong> limiting the growth of the tree into very long and complex forms \n",
    "* Post pruning - eliminating very similar / unnecessary nodes AFTER allowing the tree to grow to its full extent, i.e. until it ends up with pure nodes.\n",
    "* Pre pruning - limiting the tree’s growth beforehand / in training, through setting specific values for the model’s hyperparameters. \n",
    "\n",
    "\n",
    "<strong>Hyperparameters:</strong>\n",
    "\tdepth - the larger it is,  the more complex and long trees we can grow => incr. prob. overfitting\n",
    "\tsplitting criterion - gini or ‘entropy’(‘entropy’ is called in sklearn but it is the information gain; entropy does not stand as a criterion on its own - CAUTION! Entropy tends to grow fuller trees, whereas gini tends to isolate the most contributing variables/factors) => no effect on prob over/underfitting\n",
    "\tmax_features - the max no of features being considered to perform each split. The larger it is, the longer the growing of the tree could go on  => incr prob overfitting (+ makes training the tree very computationally expensive)\n",
    "\tmin_samples_split - the higher it is, the more difficult it would be to achieve further splits and grow a long tree => decr prob overfitting, incr prob underfitting \n",
    "\tmin_samples_leaf - if a split results in a node with less samples than min_samples_leaf, it won’t take place => the higher it is, the more difficult it is to perform further splits => decr prob overfitting, incr prob underfitting \n",
    "\n",
    "***\n",
    "\n",
    "### ENSEMBLE MODELS\n",
    "Ensemble models are primarily <strong>used</strong> to improve the overall accuracy of a model, especially, in cases of over-fitting ('bagging') and under-fitting ('boosting'). We make strategic selections of models under use (based on the characteristics of the data we're working with) so as to combine their strong points and mitigate their shortfalls through the protection that majority voting offers against misclassifications made by single models. \n",
    "\n",
    "<strong>How they work:</strong> a large number of independent, diverse machine learning models is fused into one single predictive model. Then, majority voting (or averaging in the case of regression) is implemented to get a more accurate and/or robust prediction / classification. \n",
    "\n",
    "### RANDOM FORESTS\n",
    "Prime example of <strong>bagging:</strong> approach of ensemble modelling used to address cases of overfitting - only in cases of high variance, like in decision trees\n",
    "+ More accurate and robust than decision trees, the majority prediction from multiple models is better than that of an individual model prediction because the models protect each other from their individual errors.\n",
    "+ Reduction of variance - less likely to overfit (the majority vote out of multiple diverse estimators captures more aspects of the signal in the data, protecting against considering its noise which leads to poor generalization)\n",
    "+ Can handle missing values and outliers better than DTs\n",
    "BUT they are far slower to train and more difficult to interpret than DTs\n",
    "\n",
    "\n",
    "<strong>How ensemble models work/reduce the variance (susceptibility to overfitting) of base learners through <u>bagging</u>:</strong> Each base learner (DT) trains on a random independent subset taken from the original dataset with bootstrapping. Then, we aggregate the output (majority voting for classification, averaging for regression) of all base learners used to get a more accurate and/or robust prediction/classification. \n",
    "\n",
    "<strong>Hyperparameters:</strong> how many estimators / base learners do I want to include in my ensemble??? (offers diminishing returns on performance increase after a given number) + the hyperparams of DTs\n",
    "\n",
    "<strong>To enhance the independence and diversity of base learners (exclusively DTs) in random forests:</strong>\n",
    "-> Each base learner (DT) trains on a random independent subset taken from the original dataset with bootstrapping\n",
    "-> Tweaking the set of features that base learners take into account when performing their splits (maybe not use all features (indep. variables) in bootstrap data sets, but a -different and randomly chosen- subset of them in each)\n",
    "<u>The two previous steps make use of the fact that DTs are developed based on the very specific characteristics of the data at hand, so minor modifications in the training set can lead to the growing of very different trees.</u>\n",
    "\n",
    "<strong>Unique characteristic of DTs and Random Forests:</strong> the boundaries they create are always box-like, i.e. parallel to the axes <> svm, can be whatever, according to the type of kernel we decide to use\n",
    "\n",
    "\n",
    "#### 3a. Random Forest - benchmark model (default parameters)\n",
    "\n"
   ]
  },
  {
   "cell_type": "code",
   "execution_count": null,
   "metadata": {},
   "outputs": [],
   "source": [
    "# Step 1 - Instantiate the RandomForestClassifier(random_state=0) classifier using the default parameters  \n",
    "# Assign the result into a new variable named \"rf\" \n",
    "# Step 2 - Fit the rf model to the training set (X_train, y_train)\n",
    "# Step 3 - Predict the test data (X_test) using the rf model. Assign to y_pred_rf \n",
    "# Step 4 - Print the final overall accuracy and classification_report for the test set (X_test) \n",
    "\n",
    "rf = RandomForestClassifier(random_state=0)\n",
    "rf.fit(X_train.values, y_train.values.ravel())\n",
    "y_pred_rf = rf.predict(X_test.values)\n",
    "print('Overall Accuracy:', metrics.accuracy_score(y_test, y_pred_rf))\n",
    "print('Classification Report:\\n', metrics.classification_report(y_test, y_pred_rf))"
   ]
  },
  {
   "cell_type": "code",
   "execution_count": null,
   "metadata": {},
   "outputs": [],
   "source": [
    "# Add the results as a new row into clf_results that collects all the results across all models\n",
    "\n",
    "clf_results = pd.concat([clf_results, pd.json_normalize({'Model': 'Benchmark RF',\n",
    "                                                         'Accuracy': round(metrics.accuracy_score(y_test, y_pred_rf),3), \n",
    "                                                         'F1': round(metrics.f1_score(y_test, y_pred_rf), 3)})])\n",
    "\n",
    "clf_results"
   ]
  },
  {
   "cell_type": "markdown",
   "metadata": {},
   "source": [
    "#### 3b. Optimal RF - tune the RF hyperparameters with RandomizedSearchCV( )"
   ]
  },
  {
   "cell_type": "code",
   "execution_count": null,
   "metadata": {},
   "outputs": [],
   "source": [
    "# Use GridSearchCV() with 5-fold or 10-fold cross-validation (cv=5 or cv=10)\n",
    "# (more cv folds reduces the chances of overfitting but also increases the run time) on the RandomForestClassifier(random_state=0) classifier \n",
    "# 1. Create the dictionary of hyperparameters for RF\n",
    "# 2. Set up the **RandomSearchCV**  and assign to a new variable named cv_rf\n",
    "# 3. Fit cv_rf to X_train and y_train \n",
    "# 4. Report the optimal parameters\n",
    "\n",
    "param_grid = {'n_estimators': np.arange(10, 200, 10),\n",
    "              'max_depth': list(np.arange(1, 50, 2)) + [None],  \n",
    "              'max_features' : ['sqrt', 'log2', None], \n",
    "              'min_samples_split': [1, 3, 5, 10], \n",
    "              'min_samples_leaf': [1, 3, 10],\n",
    "              'criterion': ['gini','entropy']\n",
    "             }  # to fine-tune the model, i am asked to inspect the effect that the size of the tree has on f1, precision, recall -> \n",
    "# that will be the only parameter I try multiple values for. I add here the 'criterion' with just one value, so as to return that \n",
    "# column in cv_results_ and be able to use it for pivoting and plotting.\n",
    "\n",
    "# I will perform 5-fold cross-validation (and not 10-fold for speed reasons)\n",
    "gridCV_rf = GridSearchCV(estimator = RandomForestClassifier(random_state=0), \n",
    "                          param_grid = param_grid,\n",
    "                          cv=10,\n",
    "                          n_jobs=-1\n",
    ")  \n",
    "\n",
    "gridCV_rf.fit(X_train.values, y_train.values.ravel())"
   ]
  },
  {
   "cell_type": "code",
   "execution_count": null,
   "metadata": {},
   "outputs": [],
   "source": [
    "print('Best RF parameters:', gridCV_rf.best_params_)"
   ]
  },
  {
   "cell_type": "code",
   "execution_count": null,
   "metadata": {},
   "outputs": [],
   "source": [
    "# Build the classifier using the optimal parameters detected by the tuning process.\n",
    "# Note: you can use either cv_rf.best_estimator_ to retrieve the optimal model. Assign to rf_opt.  \n",
    "# 2 - Fit the rf_opt model to the training set (X_train, y_train)\n",
    "# 3 - Predict the test data (X_test) using the rf_opt model. Assign to a variable named y_pred_rf_opt\n",
    "# 4 - Print the final overall accuracy and classification_report for the test set (X_test) \n",
    "\n",
    "rf_opt = gridCV_rf.best_estimator_\n",
    "rf_opt.fit(X_train.values, y_train.values.ravel())\n",
    "y_pred_rf_opt = rf_opt.predict(X_test.values)\n",
    "print('Overall Accuracy:', metrics.accuracy_score(y_test, y_pred_rf_opt))\n",
    "print('Classification Report:\\n', metrics.classification_report(y_test, y_pred_rf_opt))"
   ]
  },
  {
   "cell_type": "code",
   "execution_count": null,
   "metadata": {},
   "outputs": [],
   "source": [
    "# Add the results of the optimal KNN classifier as a new row into clf_results that collects all the results across all models\n",
    "\n",
    "clf_results = pd.concat([clf_results, pd.json_normalize({'Model': 'Tuned Random Forest',\n",
    "                                                         'Accuracy': round(metrics.accuracy_score(y_test, y_pred_rf_opt),3),  \n",
    "                                                         'F1': round(metrics.f1_score(y_test, y_pred_rf_opt), 3)})])\n",
    "\n",
    "clf_results"
   ]
  },
  {
   "cell_type": "code",
   "execution_count": null,
   "metadata": {},
   "outputs": [],
   "source": [
    "# Get the feature importance from the rf classifier using rf_opt.feature_importances_\n",
    "# Cast it into a pd.DataFrame and use sort_values to sort by the importance \n",
    "# Plot the rf_opt.feature_importances_ in a barplot\n",
    "feature_scores = pd.DataFrame(rf_opt.feature_importances_, index=X_train.columns, columns=['Importance'])\n",
    "feature_scores.sort_values(by='Importance', ascending=False, inplace=True) \n",
    "feature_scores.head(10)"
   ]
  },
  {
   "cell_type": "markdown",
   "metadata": {},
   "source": [
    "Being titled as 'Mr' played the most determining role (compared to other features) in whether a passenger finally survived or not. In this case, let's see what happened with those titled 'Mr' in our data: "
   ]
  },
  {
   "cell_type": "code",
   "execution_count": null,
   "metadata": {},
   "outputs": [],
   "source": [
    "demo = X_train.join(y_train)\n",
    "pd.pivot_table(demo, index='Title_Mr', values='Survived', aggfunc='mean')"
   ]
  },
  {
   "cell_type": "markdown",
   "metadata": {},
   "source": [
    "Only 16% of those titled 'Mr' survived (corresponds to value = 1, which is 0.85 after scaling) - that is probably because they probably got less help from others, in contrast to children and old people or women."
   ]
  },
  {
   "cell_type": "markdown",
   "metadata": {},
   "source": [
    "#### 4. Decision Tree - benchmark model (default parameters)"
   ]
  },
  {
   "cell_type": "code",
   "execution_count": null,
   "metadata": {},
   "outputs": [],
   "source": [
    "# Step 1 - Instantiate the DecisionTreeClassifier() classifier using the default parameters  \n",
    "# Assign the result into a new variable named \"dt\" \n",
    "# Step 2 - Fit the dt model to the training set (X_train, y_train)\n",
    "# Step 3 - Predict the test data (X_test) using the dt model. Assign to y_pred_dt\n",
    "# Step 4 - Print the final overall accuracy and classification_report for the test set (X_test) \n",
    "\n",
    "dt = DecisionTreeClassifier(random_state=0)\n",
    "dt.fit(X_train.values, y_train.values.ravel())\n",
    "y_pred_dt = dt.predict(X_test.values)\n",
    "print('Overall Accuracy:', metrics.accuracy_score(y_test, y_pred_dt))\n",
    "print('Classification Report:\\n', metrics.classification_report(y_test, y_pred_dt))\n"
   ]
  },
  {
   "cell_type": "code",
   "execution_count": null,
   "metadata": {},
   "outputs": [],
   "source": [
    "##### (time-dependent): YOU CAN TUNE THE PARAMETERS OF DT TO FIND THE OPTIMAL MODEL #####\n",
    "param_grid = {'max_depth': list(np.arange(1, 50, 2)) + [None],\n",
    "              'max_features' : ['sqrt', 'log2', None], \n",
    "              'min_samples_split': [1, 3, 5, 10], \n",
    "              'min_samples_leaf': [1, 3, 10],\n",
    "              'criterion': ['gini', 'entropy'], \n",
    "             }\n",
    "gridCV_dt = GridSearchCV(estimator=DecisionTreeClassifier(random_state=0), \n",
    "                      param_grid = param_grid, \n",
    "                      n_jobs=-1, \n",
    "                      cv=10)\n",
    "gridCV_dt.fit(X_train.values, y_train.values.ravel())\n"
   ]
  },
  {
   "cell_type": "code",
   "execution_count": null,
   "metadata": {},
   "outputs": [],
   "source": [
    "print('Best DT parameters:', gridCV_dt.best_params_)"
   ]
  },
  {
   "cell_type": "code",
   "execution_count": null,
   "metadata": {},
   "outputs": [],
   "source": [
    "dt_opt = gridCV_dt.best_estimator_\n",
    "dt_opt.fit(X_train.values, y_train.values.ravel())\n",
    "y_pred_dt_opt = dt_opt.predict(X_test.values)\n",
    "print('Overall Accuracy:', metrics.accuracy_score(y_test, y_pred_dt_opt))\n",
    "print('Classification Report:\\n', metrics.classification_report(y_test, y_pred_dt_opt))\n"
   ]
  },
  {
   "cell_type": "code",
   "execution_count": null,
   "metadata": {},
   "outputs": [],
   "source": [
    "clf_results = pd.concat([clf_results, pd.json_normalize({'Model': 'Benchmark Decision Tree',\n",
    "                                                         'Accuracy': round(metrics.accuracy_score(y_test, y_pred_dt),3), \n",
    "                                                         'F1': round(metrics.f1_score(y_test, y_pred_dt), 3)})])\n"
   ]
  },
  {
   "cell_type": "code",
   "execution_count": null,
   "metadata": {},
   "outputs": [],
   "source": [
    "# Add the results of the optimal KNN classifier as a new row into clf_results that collects all the results across all models\n",
    "\n",
    "clf_results = pd.concat([clf_results, pd.json_normalize({'Model': 'Tuned Decision Tree',\n",
    "                                                         'Accuracy': round(metrics.accuracy_score(y_test, y_pred_dt_opt),3), \n",
    "                                                         'F1': round(metrics.f1_score(y_test, y_pred_dt_opt), 3)})])\n",
    "\n",
    "clf_results"
   ]
  },
  {
   "cell_type": "markdown",
   "metadata": {},
   "source": [
    "### Compare the models "
   ]
  },
  {
   "cell_type": "code",
   "execution_count": null,
   "metadata": {},
   "outputs": [],
   "source": [
    "clf_results.sort_values(by='F1', ascending=False, inplace=True)\n",
    "clf_results"
   ]
  },
  {
   "cell_type": "markdown",
   "metadata": {},
   "source": [
    "We are talking about a binary classification problem at hand. metrics.f1_score() will return the f1 score, i.e. the weighted average of precision and recall, only for the class with label=1, which corresponds to people that survived. \n",
    "\n",
    "We will not take the macro (unweighted) f1 score (which takes into account the macro avg precision and recall in both classes), but focus only on that of the minority class because it is very important for our purposes to make correct predictions of the minority class' samples. "
   ]
  },
  {
   "cell_type": "markdown",
   "metadata": {},
   "source": [
    "We use the f1 score and not accuracy because here there are severe class imbalances, and thus the latter metric could give desceptively high values because it is very good in predicting for the majority class, even though it might catch only a few (or none at all) of the minority class' samples."
   ]
  },
  {
   "cell_type": "markdown",
   "metadata": {},
   "source": [
    "The worst performance was achieved by Decision Tree classifiers. On their own, decision trees are very known to be prone to overfitting, so their generalization performance tends to be pretty bad as they take into account not just the signal, the nature of the association between the features and the class variable, but also the noise that the very specific dataset at hand bares.\n",
    "\n",
    "Even the tuned Decision Tree had a worse quality from the benchmark random forest, which was in turn of course worse (in f1 terms) than its tuned counterpart. That was sth that we totally expected, as random forests are ensemble models combining multiple decision trees, preventing the danger of overfitting and thus bearing better generalization performance. \n",
    "\n",
    "However, the tuned knn model, even though rather simple, happened to perform even better than the tuned random forest model in this specific dataset, something that has happened due to the very nature of our data. \n",
    "\n",
    "The winner was the SVM model, and specifically that with an RBF kernel, and not a linear one, which seems to be overly simple to uncover the relationships between the features and the class at hand. The kernel=rbf, gamma = 0.0001 and C = 100 for the tuned estimator, meaning that we allow for multiple support vectors to be considered, but appoint a high penalty to missclassified samples in the training process."
   ]
  },
  {
   "cell_type": "markdown",
   "metadata": {},
   "source": [
    "***"
   ]
  },
  {
   "cell_type": "markdown",
   "metadata": {},
   "source": [
    "### Classifiers - Predict the unknown test set\n",
    "\n",
    "Using the patterns you find in train.csv, you have to predict whether the other 418 passengers on board (in test.csv) survived."
   ]
  },
  {
   "cell_type": "markdown",
   "metadata": {},
   "source": [
    "##### Case 1: use a single optimal (tuned) model \n",
    "\n",
    "Let's assume we want to use the optimal Random Forest to make the predictions on our final test (unknown) dataset: "
   ]
  },
  {
   "cell_type": "code",
   "execution_count": null,
   "metadata": {},
   "outputs": [],
   "source": [
    "##  Can you use any optimal model to predict the classes of your unknownData? \n",
    "unknown_y_pred = knn_opt.predict(unknownData.values)"
   ]
  },
  {
   "cell_type": "code",
   "execution_count": null,
   "metadata": {},
   "outputs": [],
   "source": [
    "## Check the distribution of your y_pred to investigate how your model did \n",
    "print(pd.Series(unknown_y_pred).value_counts())"
   ]
  },
  {
   "cell_type": "code",
   "execution_count": null,
   "metadata": {},
   "outputs": [],
   "source": [
    "output = pd.DataFrame(data={'PassengerId': unknownData.index, 'Survived': unknown_y_pred})"
   ]
  },
  {
   "cell_type": "code",
   "execution_count": null,
   "metadata": {},
   "outputs": [],
   "source": [
    "# Save as csv file - poor results: 76.55% accuracy\n",
    "output.to_csv('submission.csv', index=False)"
   ]
  },
  {
   "cell_type": "code",
   "execution_count": null,
   "metadata": {},
   "outputs": [],
   "source": [
    "# another try - optimal svm - slightly better, 77.75%\n",
    "unknown_y_pred_svm =svm_opt.predict(unknownData.values)\n",
    "output_svm =pd.DataFrame(data={'PassengerId': unknownData.index, 'Survived': unknown_y_pred_svm})\n",
    "output_svm.to_csv('submission_svm.csv', index=False)"
   ]
  },
  {
   "cell_type": "code",
   "execution_count": null,
   "metadata": {},
   "outputs": [],
   "source": [
    "# another try - optimal rf - same as optimal svm\n",
    "unknown_y_pred_rf =rf_opt.predict(unknownData.values)\n",
    "output_rf =pd.DataFrame(data={'PassengerId': unknownData.index, 'Survived': unknown_y_pred_svm})\n",
    "output_rf.to_csv('submission_rf.csv', index=False)"
   ]
  },
  {
   "cell_type": "markdown",
   "metadata": {},
   "source": [
    "We have found the optimal model, aka the mathematical functions that seems to best capture the association between features' values and class labels. We will now train that model with those hyperparameters on the whole training data csv (known data, titanic_known.csv), so as to estimate the OPTIMAL values of the parameters in the modelling function. "
   ]
  },
  {
   "cell_type": "code",
   "execution_count": null,
   "metadata": {},
   "outputs": [],
   "source": [
    "whole_X = pd.concat([X_train, X_test], ignore_index=True)\n",
    "whole_Y = pd.concat([y_train, y_test], ignore_index=True)\n",
    "print('Shape of X:', whole_X.shape)\n",
    "print('Shape of y:', whole_y.shape)"
   ]
  },
  {
   "cell_type": "code",
   "execution_count": null,
   "metadata": {},
   "outputs": [],
   "source": [
    "full_svm_y_pred = svm_opt.predict(unknownData.values)\n",
    "out_put_full_svm_opt = pd.DataFrame(data={'PassengerId': unknownData.index, 'Survived': full_svm_y_pred})\n",
    "out_put_full_svm_opt.to_csv('submission_full_svm_opt.csv', index=False)"
   ]
  }
 ],
 "metadata": {
  "kernelspec": {
   "display_name": "Python 3 (ipykernel)",
   "language": "python",
   "name": "python3"
  },
  "language_info": {
   "codemirror_mode": {
    "name": "ipython",
    "version": 3
   },
   "file_extension": ".py",
   "mimetype": "text/x-python",
   "name": "python",
   "nbconvert_exporter": "python",
   "pygments_lexer": "ipython3",
   "version": "3.11.7"
  }
 },
 "nbformat": 4,
 "nbformat_minor": 4
}
